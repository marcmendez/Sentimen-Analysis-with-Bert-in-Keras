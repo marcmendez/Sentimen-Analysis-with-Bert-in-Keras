{
  "nbformat": 4,
  "nbformat_minor": 0,
  "metadata": {
    "colab": {
      "name": "Data Science Test(Version Kfold).ipynb",
      "provenance": [],
      "collapsed_sections": [],
      "toc_visible": true
    },
    "kernelspec": {
      "name": "python3",
      "display_name": "Python 3"
    },
    "accelerator": "GPU"
  },
  "cells": [
    {
      "cell_type": "markdown",
      "metadata": {
        "id": "SYHni0btOko_",
        "colab_type": "text"
      },
      "source": [
        "##Downloads of packages and usefull imports."
      ]
    },
    {
      "cell_type": "code",
      "metadata": {
        "id": "F-eSwEHGLUzh",
        "colab_type": "code",
        "colab": {
          "base_uri": "https://localhost:8080/",
          "height": 417
        },
        "outputId": "9a050c86-45c8-4959-8319-7ad201897947"
      },
      "source": [
        "!pip install bert-for-tf2"
      ],
      "execution_count": 1,
      "outputs": [
        {
          "output_type": "stream",
          "text": [
            "Collecting bert-for-tf2\n",
            "\u001b[?25l  Downloading https://files.pythonhosted.org/packages/af/c1/015648a2186b25c6de79d15bec40d3d946fcf1dd5067d1c1b28009506486/bert-for-tf2-0.14.6.tar.gz (40kB)\n",
            "\r\u001b[K     |████████                        | 10kB 24.1MB/s eta 0:00:01\r\u001b[K     |████████████████                | 20kB 3.0MB/s eta 0:00:01\r\u001b[K     |████████████████████████▏       | 30kB 3.7MB/s eta 0:00:01\r\u001b[K     |████████████████████████████████| 40kB 2.6MB/s \n",
            "\u001b[?25hCollecting py-params>=0.9.6\n",
            "  Downloading https://files.pythonhosted.org/packages/a4/bf/c1c70d5315a8677310ea10a41cfc41c5970d9b37c31f9c90d4ab98021fd1/py-params-0.9.7.tar.gz\n",
            "Collecting params-flow>=0.8.0\n",
            "  Downloading https://files.pythonhosted.org/packages/a9/95/ff49f5ebd501f142a6f0aaf42bcfd1c192dc54909d1d9eb84ab031d46056/params-flow-0.8.2.tar.gz\n",
            "Requirement already satisfied: numpy in /usr/local/lib/python3.6/dist-packages (from params-flow>=0.8.0->bert-for-tf2) (1.18.5)\n",
            "Requirement already satisfied: tqdm in /usr/local/lib/python3.6/dist-packages (from params-flow>=0.8.0->bert-for-tf2) (4.41.1)\n",
            "Building wheels for collected packages: bert-for-tf2, py-params, params-flow\n",
            "  Building wheel for bert-for-tf2 (setup.py) ... \u001b[?25l\u001b[?25hdone\n",
            "  Created wheel for bert-for-tf2: filename=bert_for_tf2-0.14.6-cp36-none-any.whl size=30318 sha256=14488031c2691cdf3555a87427770b4926e4f1861b53b9f02d265e0646588607\n",
            "  Stored in directory: /root/.cache/pip/wheels/07/a0/b4/75b0601ebaa41e517a797fe9cea119c789664c8408f8a74ae9\n",
            "  Building wheel for py-params (setup.py) ... \u001b[?25l\u001b[?25hdone\n",
            "  Created wheel for py-params: filename=py_params-0.9.7-cp36-none-any.whl size=7304 sha256=9f9cd0d92b06075310ccaf5fad71df64a9c5b098af5cd00c42f36d8943e3c69f\n",
            "  Stored in directory: /root/.cache/pip/wheels/67/f5/19/b461849a50aefdf4bab47c4756596e82ee2118b8278e5a1980\n",
            "  Building wheel for params-flow (setup.py) ... \u001b[?25l\u001b[?25hdone\n",
            "  Created wheel for params-flow: filename=params_flow-0.8.2-cp36-none-any.whl size=19475 sha256=55019815c0e66d83c3c53b5acd296de8c54c98462532f545ebffb87cd18db3b7\n",
            "  Stored in directory: /root/.cache/pip/wheels/08/c8/7f/81c86b9ff2b86e2c477e3914175be03e679e596067dc630c06\n",
            "Successfully built bert-for-tf2 py-params params-flow\n",
            "Installing collected packages: py-params, params-flow, bert-for-tf2\n",
            "Successfully installed bert-for-tf2-0.14.6 params-flow-0.8.2 py-params-0.9.7\n"
          ],
          "name": "stdout"
        }
      ]
    },
    {
      "cell_type": "code",
      "metadata": {
        "id": "avFhQXrZOtTI",
        "colab_type": "code",
        "colab": {
          "base_uri": "https://localhost:8080/",
          "height": 72
        },
        "outputId": "c5e1e18c-6232-46b6-8626-9fd38322a10b"
      },
      "source": [
        "import pandas as pd\n",
        "import numpy as np\n",
        "import re\n",
        "\n",
        "import matplotlib.pyplot as plt\n",
        "from wordcloud import WordCloud\n",
        "from sklearn.model_selection import train_test_split\n",
        "\n",
        "#import nltk\n",
        "#nltk.download('punkt')\n",
        "#from nltk.corpus import stopwords\n",
        "#nltk.download('stopwords')\n",
        "#from nltk.stem import PorterStemmer\n",
        "\n",
        "import os\n",
        "from tqdm import tqdm\n",
        "\n",
        "import tensorflow as tf\n",
        "from tensorflow import keras\n",
        "from keras.callbacks import EarlyStopping\n",
        "from keras.callbacks import ModelCheckpoint\n",
        "\n",
        "import bert\n",
        "from bert.tokenization.bert_tokenization import FullTokenizer\n",
        "\n",
        "#from bert import BertModelLayer\n",
        "#from bert.loader import StockBertConfig, map_stock_config_to_params, load_stock_weights\n",
        "\n",
        "from sklearn.metrics import confusion_matrix, classification_report\n",
        "import seaborn as sns"
      ],
      "execution_count": 2,
      "outputs": [
        {
          "output_type": "stream",
          "text": [
            "/usr/local/lib/python3.6/dist-packages/statsmodels/tools/_testing.py:19: FutureWarning: pandas.util.testing is deprecated. Use the functions in the public API at pandas.testing instead.\n",
            "  import pandas.util.testing as tm\n"
          ],
          "name": "stderr"
        }
      ]
    },
    {
      "cell_type": "markdown",
      "metadata": {
        "id": "g84KJ9_1OYWI",
        "colab_type": "text"
      },
      "source": [
        "Download the data from my personal drive(Google collab deletes folders) and store the concatenation of all the datasets into 'data/total.csv'."
      ]
    },
    {
      "cell_type": "code",
      "metadata": {
        "id": "gUDyN8_6O3fP",
        "colab_type": "code",
        "colab": {
          "base_uri": "https://localhost:8080/",
          "height": 35
        },
        "outputId": "e35983fe-8abd-4dd3-a544-134ad489d3cc"
      },
      "source": [
        "from google.colab import drive\n",
        "drive.mount('/content/drive')"
      ],
      "execution_count": 3,
      "outputs": [
        {
          "output_type": "stream",
          "text": [
            "Mounted at /content/drive\n"
          ],
          "name": "stdout"
        }
      ]
    },
    {
      "cell_type": "code",
      "metadata": {
        "id": "Yo9bv-rGNvhb",
        "colab_type": "code",
        "colab": {
          "base_uri": "https://localhost:8080/",
          "height": 72
        },
        "outputId": "ca566922-3a61-4e58-a53e-9d8838f5d62b"
      },
      "source": [
        "websites = ['amazon', 'imdb', 'yelp']\n",
        "df_list_web=[]\n",
        "for website in websites:\n",
        "  df_web = pd.read_csv('/content/drive/My Drive/data/' + website + '_labelled.txt', sep=\"\\\\t\", header=None)\n",
        "  df_list_web.append(df_web)\n",
        "df= pd.concat(df_list_web, axis=0, ignore_index=True)"
      ],
      "execution_count": 4,
      "outputs": [
        {
          "output_type": "stream",
          "text": [
            "/usr/local/lib/python3.6/dist-packages/ipykernel_launcher.py:4: ParserWarning: Falling back to the 'python' engine because the 'c' engine does not support regex separators (separators > 1 char and different from '\\s+' are interpreted as regex); you can avoid this warning by specifying engine='python'.\n",
            "  after removing the cwd from sys.path.\n"
          ],
          "name": "stderr"
        }
      ]
    },
    {
      "cell_type": "code",
      "metadata": {
        "id": "0uo8C2wOPbeK",
        "colab_type": "code",
        "colab": {}
      },
      "source": [
        "os.makedirs(\"data\", exist_ok=True)"
      ],
      "execution_count": 5,
      "outputs": []
    },
    {
      "cell_type": "code",
      "metadata": {
        "id": "4Ivjm3XPQo1I",
        "colab_type": "code",
        "colab": {
          "base_uri": "https://localhost:8080/",
          "height": 407
        },
        "outputId": "bc0f2b2b-d4c2-484b-a29d-76e41a048521"
      },
      "source": [
        "df.columns = ['text', 'score']\n",
        "df.to_csv('data/total.csv')\n",
        "df"
      ],
      "execution_count": 6,
      "outputs": [
        {
          "output_type": "execute_result",
          "data": {
            "text/html": [
              "<div>\n",
              "<style scoped>\n",
              "    .dataframe tbody tr th:only-of-type {\n",
              "        vertical-align: middle;\n",
              "    }\n",
              "\n",
              "    .dataframe tbody tr th {\n",
              "        vertical-align: top;\n",
              "    }\n",
              "\n",
              "    .dataframe thead th {\n",
              "        text-align: right;\n",
              "    }\n",
              "</style>\n",
              "<table border=\"1\" class=\"dataframe\">\n",
              "  <thead>\n",
              "    <tr style=\"text-align: right;\">\n",
              "      <th></th>\n",
              "      <th>text</th>\n",
              "      <th>score</th>\n",
              "    </tr>\n",
              "  </thead>\n",
              "  <tbody>\n",
              "    <tr>\n",
              "      <th>0</th>\n",
              "      <td>So there is no way for me to plug it in here i...</td>\n",
              "      <td>0</td>\n",
              "    </tr>\n",
              "    <tr>\n",
              "      <th>1</th>\n",
              "      <td>Good case, Excellent value.</td>\n",
              "      <td>1</td>\n",
              "    </tr>\n",
              "    <tr>\n",
              "      <th>2</th>\n",
              "      <td>Great for the jawbone.</td>\n",
              "      <td>1</td>\n",
              "    </tr>\n",
              "    <tr>\n",
              "      <th>3</th>\n",
              "      <td>Tied to charger for conversations lasting more...</td>\n",
              "      <td>0</td>\n",
              "    </tr>\n",
              "    <tr>\n",
              "      <th>4</th>\n",
              "      <td>The mic is great.</td>\n",
              "      <td>1</td>\n",
              "    </tr>\n",
              "    <tr>\n",
              "      <th>...</th>\n",
              "      <td>...</td>\n",
              "      <td>...</td>\n",
              "    </tr>\n",
              "    <tr>\n",
              "      <th>2995</th>\n",
              "      <td>I think food should have flavor and texture an...</td>\n",
              "      <td>0</td>\n",
              "    </tr>\n",
              "    <tr>\n",
              "      <th>2996</th>\n",
              "      <td>Appetite instantly gone.</td>\n",
              "      <td>0</td>\n",
              "    </tr>\n",
              "    <tr>\n",
              "      <th>2997</th>\n",
              "      <td>Overall I was not impressed and would not go b...</td>\n",
              "      <td>0</td>\n",
              "    </tr>\n",
              "    <tr>\n",
              "      <th>2998</th>\n",
              "      <td>The whole experience was underwhelming, and I ...</td>\n",
              "      <td>0</td>\n",
              "    </tr>\n",
              "    <tr>\n",
              "      <th>2999</th>\n",
              "      <td>Then, as if I hadn't wasted enough of my life ...</td>\n",
              "      <td>0</td>\n",
              "    </tr>\n",
              "  </tbody>\n",
              "</table>\n",
              "<p>3000 rows × 2 columns</p>\n",
              "</div>"
            ],
            "text/plain": [
              "                                                   text  score\n",
              "0     So there is no way for me to plug it in here i...      0\n",
              "1                           Good case, Excellent value.      1\n",
              "2                                Great for the jawbone.      1\n",
              "3     Tied to charger for conversations lasting more...      0\n",
              "4                                     The mic is great.      1\n",
              "...                                                 ...    ...\n",
              "2995  I think food should have flavor and texture an...      0\n",
              "2996                           Appetite instantly gone.      0\n",
              "2997  Overall I was not impressed and would not go b...      0\n",
              "2998  The whole experience was underwhelming, and I ...      0\n",
              "2999  Then, as if I hadn't wasted enough of my life ...      0\n",
              "\n",
              "[3000 rows x 2 columns]"
            ]
          },
          "metadata": {
            "tags": []
          },
          "execution_count": 6
        }
      ]
    },
    {
      "cell_type": "markdown",
      "metadata": {
        "id": "IBxj0fIba0Hh",
        "colab_type": "text"
      },
      "source": [
        "#Data Analysys\n",
        "Search any interesting facts that can help us on the preprocessing stages."
      ]
    },
    {
      "cell_type": "code",
      "metadata": {
        "id": "xR1-x2qTcakK",
        "colab_type": "code",
        "colab": {
          "base_uri": "https://localhost:8080/",
          "height": 35
        },
        "outputId": "5a6e9f69-5f3c-43b8-f7fa-14440699acd2"
      },
      "source": [
        "df.text.isnull().sum()"
      ],
      "execution_count": 7,
      "outputs": [
        {
          "output_type": "execute_result",
          "data": {
            "text/plain": [
              "0"
            ]
          },
          "metadata": {
            "tags": []
          },
          "execution_count": 7
        }
      ]
    },
    {
      "cell_type": "code",
      "metadata": {
        "id": "3KeDvNOScj5_",
        "colab_type": "code",
        "colab": {
          "base_uri": "https://localhost:8080/",
          "height": 35
        },
        "outputId": "2ea4a409-ed26-4c04-c263-08d074e1bd9f"
      },
      "source": [
        "df.score.isnull().sum()"
      ],
      "execution_count": 8,
      "outputs": [
        {
          "output_type": "execute_result",
          "data": {
            "text/plain": [
              "0"
            ]
          },
          "metadata": {
            "tags": []
          },
          "execution_count": 8
        }
      ]
    },
    {
      "cell_type": "code",
      "metadata": {
        "id": "qlfTADdKcp_t",
        "colab_type": "code",
        "colab": {
          "base_uri": "https://localhost:8080/",
          "height": 121
        },
        "outputId": "812e489b-7771-448c-9121-8f2f62dc5046"
      },
      "source": [
        "print('Positive review example: \\n', df[df.score==1].text.values[0])\n",
        "print('\\n')\n",
        "print('Negative review example: \\n', df[df.score==0].text.values[0])"
      ],
      "execution_count": 9,
      "outputs": [
        {
          "output_type": "stream",
          "text": [
            "Positive review example: \n",
            " Good case, Excellent value.\n",
            "\n",
            "\n",
            "Negative review example: \n",
            " So there is no way for me to plug it in here in the US unless I go by a converter.\n"
          ],
          "name": "stdout"
        }
      ]
    },
    {
      "cell_type": "code",
      "metadata": {
        "id": "5qbxqMc5L5_L",
        "colab_type": "code",
        "colab": {
          "base_uri": "https://localhost:8080/",
          "height": 295
        },
        "outputId": "6611d21f-661c-42fe-a54c-b2e2384b630b"
      },
      "source": [
        "chart = sns.countplot(df.score)\n",
        "plt.title(\"Number of reviews per score\")\n",
        "plt.xticks(df.score, ['Negative', 'Postitive']);"
      ],
      "execution_count": 10,
      "outputs": [
        {
          "output_type": "display_data",
          "data": {
            "image/png": "[encoded data removed]",
            "text/plain": [
              "<Figure size 432x288 with 1 Axes>"
            ]
          },
          "metadata": {
            "tags": [],
            "needs_background": "light"
          }
        }
      ]
    },
    {
      "cell_type": "code",
      "metadata": {
        "id": "b_RY8yZjuJTV",
        "colab_type": "code",
        "colab": {
          "base_uri": "https://localhost:8080/",
          "height": 219
        },
        "outputId": "61a84f4b-4281-4735-c52f-aa835f5cb5b1"
      },
      "source": [
        "positive = df[(df['score']==1)]\n",
        "wc_pos = WordCloud().generate(str(positive['text'].values))\n",
        "negative = df[(df['score']==0)]\n",
        "wc_neg = WordCloud().generate(str(negative['text'].values))\n",
        "\n",
        "plt.figure()\n",
        "plt.imshow(wc_pos)\n",
        "plt.axis('off')\n",
        "plt.title('Word Cloud for postive reviews',fontsize=20)\n",
        "plt.show()"
      ],
      "execution_count": 11,
      "outputs": [
        {
          "output_type": "display_data",
          "data": {
            "image/png": "[encoded data removed]",
            "text/plain": [
              "<Figure size 432x288 with 1 Axes>"
            ]
          },
          "metadata": {
            "tags": [],
            "needs_background": "light"
          }
        }
      ]
    },
    {
      "cell_type": "code",
      "metadata": {
        "id": "Zut3yt1UENhv",
        "colab_type": "code",
        "colab": {
          "base_uri": "https://localhost:8080/",
          "height": 219
        },
        "outputId": "67159fd8-7816-4956-cbf8-874eb7981c6d"
      },
      "source": [
        "plt.figure()\n",
        "plt.imshow(wc_neg)\n",
        "plt.axis('off')\n",
        "plt.title('Word Cloud for negative reviews',fontsize=20)\n",
        "plt.show()    "
      ],
      "execution_count": 12,
      "outputs": [
        {
          "output_type": "display_data",
          "data": {
            "image/png": "[encoded data removed]",
            "text/plain": [
              "<Figure size 432x288 with 1 Axes>"
            ]
          },
          "metadata": {
            "tags": [],
            "needs_background": "light"
          }
        }
      ]
    },
    {
      "cell_type": "markdown",
      "metadata": {
        "id": "bFyTATyG_f1U",
        "colab_type": "text"
      },
      "source": [
        "The Word Clouds will give us a deep dive into the most common words for the either positive reviews or negative. As seen before, the most used words on positive reviews are great and good, while in the negative are plug and go. This gives as an idea of what type of reviews we have.\n",
        "\n",
        "In this case the negatives usually have reference to some electric device as the plug word appears a lot."
      ]
    },
    {
      "cell_type": "markdown",
      "metadata": {
        "id": "7oGwv9dJYB6B",
        "colab_type": "text"
      },
      "source": [
        "#Preprocessing\n",
        "Once the data is succesfully analyzed we will start the preprocessing taking into account important features from the previous step."
      ]
    },
    {
      "cell_type": "code",
      "metadata": {
        "id": "FN1o_0EaYbGL",
        "colab_type": "code",
        "colab": {}
      },
      "source": [
        "#Puntuation and numbers removal, most of them not providing information for sentiment analysis.\n",
        "words = df.text.apply(lambda x: re.sub(r'\\W+',' ',x))\n",
        "\n",
        "#Lower Case all text\n",
        "words = words.apply(lambda x: x.lower())\n",
        "\n",
        "#Removal of Stop words\n",
        "#stop_words = stopwords.words('english')\n",
        "#tokens = words_lower.apply(lambda row: nltk.word_tokenize(row))\n",
        "#words = tokens.apply(lambda x: [word for word in x if not word in stop_words])\n",
        "#words = words.apply(lambda x: ' '.join(x))\n",
        "\n",
        "#Stemming\n",
        "#tokens = words_lower.apply(lambda row: nltk.word_tokenize(row))\n",
        "#words = tokens.apply(lambda x: [ps.stem(w) for w in x])\n",
        "#words = words.apply(lambda x: ' '.join(x))\n",
        "\n",
        "#Add Changes to df.\n",
        "df.text = words"
      ],
      "execution_count": 13,
      "outputs": []
    },
    {
      "cell_type": "markdown",
      "metadata": {
        "id": "eBdbUXuTeudr",
        "colab_type": "text"
      },
      "source": [
        "We will keep stopwords as most of them bring negation and context information Bert is able to take profit of.\n",
        "The same happens with Stemming or Lemmatization as the model losses information that helps to predict the sentiment."
      ]
    },
    {
      "cell_type": "markdown",
      "metadata": {
        "id": "Eb-3CE94_keG",
        "colab_type": "text"
      },
      "source": [
        "#Downloading the model"
      ]
    },
    {
      "cell_type": "code",
      "metadata": {
        "id": "gPe0tSqDDSh0",
        "colab_type": "code",
        "colab": {
          "base_uri": "https://localhost:8080/",
          "height": 348
        },
        "outputId": "0aff1056-3931-4873-9187-80e8ae04c942"
      },
      "source": [
        "!wget https://storage.googleapis.com/bert_models/2018_10_18/uncased_L-12_H-768_A-12.zip\n",
        "!unzip uncased_L-12_H-768_A-12.zip"
      ],
      "execution_count": 14,
      "outputs": [
        {
          "output_type": "stream",
          "text": [
            "--2020-09-18 07:14:34--  https://storage.googleapis.com/bert_models/2018_10_18/uncased_L-12_H-768_A-12.zip\n",
            "Resolving storage.googleapis.com (storage.googleapis.com)... 74.125.20.128, 108.177.98.128, 74.125.195.128, ...\n",
            "Connecting to storage.googleapis.com (storage.googleapis.com)|74.125.20.128|:443... connected.\n",
            "HTTP request sent, awaiting response... 200 OK\n",
            "Length: 407727028 (389M) [application/zip]\n",
            "Saving to: ‘uncased_L-12_H-768_A-12.zip’\n",
            "\n",
            "uncased_L-12_H-768_ 100%[===================>] 388.84M   159MB/s    in 2.4s    \n",
            "\n",
            "2020-09-18 07:14:37 (159 MB/s) - ‘uncased_L-12_H-768_A-12.zip’ saved [407727028/407727028]\n",
            "\n",
            "Archive:  uncased_L-12_H-768_A-12.zip\n",
            "   creating: uncased_L-12_H-768_A-12/\n",
            "  inflating: uncased_L-12_H-768_A-12/bert_model.ckpt.meta  \n",
            "  inflating: uncased_L-12_H-768_A-12/bert_model.ckpt.data-00000-of-00001  \n",
            "  inflating: uncased_L-12_H-768_A-12/vocab.txt  \n",
            "  inflating: uncased_L-12_H-768_A-12/bert_model.ckpt.index  \n",
            "  inflating: uncased_L-12_H-768_A-12/bert_config.json  \n"
          ],
          "name": "stdout"
        }
      ]
    },
    {
      "cell_type": "code",
      "metadata": {
        "id": "OQ-GO1qDh-xA",
        "colab_type": "code",
        "colab": {}
      },
      "source": [
        "os.makedirs(\"model\", exist_ok=True)\n",
        "!mv uncased_L-12_H-768_A-12/ model"
      ],
      "execution_count": 15,
      "outputs": []
    },
    {
      "cell_type": "code",
      "metadata": {
        "id": "IOqNHUgHDiIm",
        "colab_type": "code",
        "colab": {}
      },
      "source": [
        "bert_model_name= 'uncased_L-12_H-768_A-12'\n",
        "\n",
        "bert_ckpt_dir = os.path.join('model/',bert_model_name)\n",
        "bert_ckpt_file = os.path.join(bert_ckpt_dir, 'bert_model.ckpt')\n",
        "bert_config_file = os.path.join(bert_ckpt_dir, 'bert_config.json')"
      ],
      "execution_count": 16,
      "outputs": []
    },
    {
      "cell_type": "markdown",
      "metadata": {
        "id": "1Tf9AHIc_pEc",
        "colab_type": "text"
      },
      "source": [
        "#Preprocessing data for Bert\n",
        "In order to make the pretrained language model(Bert) understand our data it has to come on a specific format. To achieve this we developed a class with some functions to perform all the steps.\n",
        "\n",
        "The init function initializes the class with all the parameters that we pass on it.\n",
        "\n",
        "The encodebert converts the train/test dataset into train_x/test_y and train_y/test_y. The text is converted to tokens and added some special caracthers needed to delimiter sentences.\n",
        "\n",
        "The pad, appart from padding the sentences to the length of the largest, it creates the token_ids, the mask_id and the input_type_ids matrixs. "
      ]
    },
    {
      "cell_type": "code",
      "metadata": {
        "id": "_shVKJFxEyFO",
        "colab_type": "code",
        "colab": {}
      },
      "source": [
        "class BertData:\n",
        "\n",
        "  def __init__(self, train, test, tokenizer: FullTokenizer, classes, max_seq_len=192):\n",
        "    self.tokenizer=tokenizer\n",
        "    self.max_seq_len=0\n",
        "    self.classes=classes\n",
        "\n",
        "    ((self.train_x, self.train_y), (self.test_x,self.test_y)) = map(self._encodebert, [train,test])\n",
        "\n",
        "    self.max_seq_len=min(self.max_seq_len,max_seq_len)\n",
        "    \n",
        "    ((self.train_x, self.train_mask, self.train_type), (self.test_x, self.test_mask, self.test_type)) = map(self._pad,[self.train_x, self.test_x])\n",
        "  \n",
        "\n",
        "  def _encodebert(self, df):\n",
        "    x, y= [], []\n",
        "    for _,row in tqdm(df.iterrows()):\n",
        "      text,label= row['text'], row['score']\n",
        "\n",
        "      tokens = self.tokenizer.tokenize(text)\n",
        "      tokens = [\"[CLS]\"]+tokens+[\"[SEP]\"]\n",
        "\n",
        "      token_ids = self.tokenizer.convert_tokens_to_ids(tokens)\n",
        "\n",
        "      self.max_seq_len= max(self.max_seq_len, len(token_ids))\n",
        "\n",
        "      x.append(token_ids)\n",
        "      y.append(self.classes.index(label))\n",
        "\n",
        "    return np.array(x), np.array(y)\n",
        "\n",
        "\n",
        "  def _pad(self, ids):\n",
        "    #print(\"Max_Seq_Len Value:\", self.max_seq_len)\n",
        "    x, y, z =[],[], []\n",
        "    \n",
        "    for input_ids in ids:\n",
        "      \n",
        "      #Mask generation:\n",
        "      mask = ([1] * len(input_ids)) + ([0] *  (self.max_seq_len - len(input_ids)))\n",
        "      #Input type generation:\n",
        "      input_type = ([0] * (len(input_ids)-1)) + [1] + ([0] *  (self.max_seq_len - len(input_ids)))\n",
        "      #Input ids generation:\n",
        "      input_ids = input_ids[:min(len(input_ids), self.max_seq_len - 2)]\n",
        "      input_ids = input_ids + [0] * (self.max_seq_len - len(input_ids))\n",
        "\n",
        "      x.append(np.array(input_ids))\n",
        "      y.append(np.array(mask))\n",
        "      z.append(np.array(input_type))\n",
        "\n",
        "    return np.array(x), np.array(y), np.array(z)\n",
        "\n"
      ],
      "execution_count": 17,
      "outputs": []
    },
    {
      "cell_type": "code",
      "metadata": {
        "id": "k9_dqyXNLqSw",
        "colab_type": "code",
        "colab": {}
      },
      "source": [
        "tokenizer = FullTokenizer(vocab_file=os.path.join(bert_ckpt_dir,\"vocab.txt\"))"
      ],
      "execution_count": 18,
      "outputs": []
    },
    {
      "cell_type": "code",
      "metadata": {
        "id": "SNzx3BAsMMGr",
        "colab_type": "code",
        "colab": {}
      },
      "source": [
        "#tokenizer.tokenize(\"I can't wait to learn about Deep Learning.\")"
      ],
      "execution_count": 19,
      "outputs": []
    },
    {
      "cell_type": "code",
      "metadata": {
        "id": "AhWq_CHVqHv3",
        "colab_type": "code",
        "colab": {}
      },
      "source": [
        "import tensorflow_hub as hub\n",
        "bert_path = 'https://tfhub.dev/tensorflow/bert_en_uncased_L-12_H-768_A-12/1'\n",
        "bert_layer = hub.KerasLayer(bert_path, trainable=True)"
      ],
      "execution_count": 20,
      "outputs": []
    },
    {
      "cell_type": "markdown",
      "metadata": {
        "id": "rWOMB9DO_svQ",
        "colab_type": "text"
      },
      "source": [
        "#Model Creation\n",
        "To make Bert work correctly, we need the data in the format mentioned before. So the input to the bert layer will be [input_ids, input_mask, input_segments]. Then we fine-tune the lasts layers in order to make the model be able to perform corretly on our type of problem, in our case, sentiment analysis."
      ]
    },
    {
      "cell_type": "code",
      "metadata": {
        "id": "RpHulzBvNW46",
        "colab_type": "code",
        "colab": {}
      },
      "source": [
        "def create_model(max_seq_len):\n",
        "\n",
        "  input_ids = keras.layers.Input(shape=(max_seq_len, ), dtype='int32', name=\"input_ids\")\n",
        "  input_mask = keras.layers.Input(shape=(max_seq_len, ), dtype='int32', name=\"input_masks\")\n",
        "  input_segments = keras.layers.Input(shape=(max_seq_len, ), dtype='int32', name=\"input_segments\")\n",
        "\n",
        "  _,bert_output = bert_layer([input_ids, input_mask, input_segments])\n",
        "  cls_out = keras.layers.GlobalAveragePooling1D()(bert_output)\n",
        "  logits = keras.layers.Dropout(0.7)(cls_out)\n",
        "  logits = keras.layers.Dense(units=768)(logits)\n",
        "  logits = keras.layers.Dropout(0.7)(logits)\n",
        "\n",
        "  #Enable the row below when logits=True\n",
        "  logits = keras.layers.Dense(units=1, activation=\"sigmoid\")(logits)\n",
        "\n",
        "  #Enable the row below when Loss logits=False, worse results thant with logits\n",
        "  #logits = keras.layers.Dense(units=len(classes), activation=\"softmax\")(logits)\n",
        "\n",
        "  model = keras.Model([input_ids, input_mask, input_segments],logits)\n",
        "        \n",
        "  return model"
      ],
      "execution_count": 21,
      "outputs": []
    },
    {
      "cell_type": "markdown",
      "metadata": {
        "id": "4PTPKDdN_u35",
        "colab_type": "text"
      },
      "source": [
        "#Kfold\n",
        "\n",
        "The difference of this notebook is the need to introduce K-fold Cross-validation in order to generalize better our model. As the random state is fixed to be able to reproduce our models, we introduced the CV method to demonstrate that it works well with more than one test dataset, in specific with K different tests sets."
      ]
    },
    {
      "cell_type": "code",
      "metadata": {
        "id": "6NXqzsh65J5M",
        "colab_type": "code",
        "colab": {
          "base_uri": "https://localhost:8080/",
          "height": 1000
        },
        "outputId": "66d9fa87-d566-4302-b29e-b34c977bb353"
      },
      "source": [
        "from sklearn.model_selection import KFold\n",
        "kfold = KFold(5, shuffle=True, random_state=42)\n",
        "fold = 0\n",
        "fold_y = []\n",
        "fold_pred = []\n",
        "for train_ids, test_ids in kfold.split(df):\n",
        "  fold +=1\n",
        "  train = pd.concat([df.text[train_ids],df.score[train_ids]],axis = 1)\n",
        "  test = pd.concat([df.text[test_ids], df.score[test_ids]], axis = 1)\n",
        "  classes = train.score.unique().tolist()\n",
        "  data = BertData(train, test, tokenizer, classes, max_seq_len=128)\n",
        "  model = create_model(data.max_seq_len)\n",
        "  model.compile(\n",
        "    optimizer=keras.optimizers.Adam(learning_rate = 1e-5, epsilon= 1e-8, clipnorm=1.0),\n",
        "    loss=tf.keras.losses.BinaryCrossentropy(from_logits=True),\n",
        "    metrics=['accuracy'])\n",
        "  bert_input = [tf.cast(data.train_x, tf.int32), tf.cast(data.train_mask, tf.int32), tf.cast(data.train_type, tf.int32)]\n",
        "  \n",
        "  earlystop = EarlyStopping(monitor = 'val_loss',\n",
        "                          min_delta = 0,\n",
        "                          patience = 3,\n",
        "                          verbose = 1,\n",
        "                          restore_best_weights = True)\n",
        "\n",
        "  checkpoint = ModelCheckpoint('model/best.h5',\n",
        "                             monitor='loss',\n",
        "                             mode='min',\n",
        "                             save_best_only=True,\n",
        "                             verbose=1)\n",
        "  \n",
        "  print('\\nFold:', fold,'\\n')\n",
        "  print('----------------------------')\n",
        "  model.fit(\n",
        "    x=bert_input, \n",
        "    y=data.train_y,  \n",
        "    batch_size=16,\n",
        "    epochs=5,\n",
        "    callbacks=[earlystop, checkpoint]\n",
        "    )\n",
        "  bert_test_inp = [tf.cast(data.test_x, tf.int32), tf.cast(data.test_mask, tf.int32), tf.cast(data.test_type, tf.int32)]\n",
        "  y_test_pred = model.predict(bert_test_inp)\n",
        "  y_test_pred2=[]\n",
        "  for i in y_test_pred:\n",
        "    if (i < 0.5):\n",
        "      i= 0\n",
        "    else:\n",
        "      i = 1\n",
        "    y_test_pred2.append(i)\n",
        "  fold_y.append(data.test_y)\n",
        "  fold_pred.append(y_test_pred2)\n",
        "  "
      ],
      "execution_count": 23,
      "outputs": [
        {
          "output_type": "stream",
          "text": [
            "2400it [00:00, 3228.04it/s]\n",
            "600it [00:00, 3201.41it/s]\n"
          ],
          "name": "stderr"
        },
        {
          "output_type": "stream",
          "text": [
            "\n",
            "Fold: 1 \n",
            "\n",
            "----------------------------\n",
            "Epoch 1/5\n",
            "150/150 [==============================] - ETA: 0s - loss: 0.5417 - accuracy: 0.9179WARNING:tensorflow:Early stopping conditioned on metric `val_loss` which is not available. Available metrics are: loss,accuracy\n"
          ],
          "name": "stdout"
        },
        {
          "output_type": "stream",
          "text": [
            "WARNING:tensorflow:Early stopping conditioned on metric `val_loss` which is not available. Available metrics are: loss,accuracy\n"
          ],
          "name": "stderr"
        },
        {
          "output_type": "stream",
          "text": [
            "\n",
            "Epoch 00001: loss improved from inf to 0.54170, saving model to model/best.h5\n",
            "150/150 [==============================] - 53s 350ms/step - loss: 0.5417 - accuracy: 0.9179\n",
            "Epoch 2/5\n",
            "150/150 [==============================] - ETA: 0s - loss: 0.5193 - accuracy: 0.9629WARNING:tensorflow:Early stopping conditioned on metric `val_loss` which is not available. Available metrics are: loss,accuracy\n"
          ],
          "name": "stdout"
        },
        {
          "output_type": "stream",
          "text": [
            "WARNING:tensorflow:Early stopping conditioned on metric `val_loss` which is not available. Available metrics are: loss,accuracy\n"
          ],
          "name": "stderr"
        },
        {
          "output_type": "stream",
          "text": [
            "\n",
            "Epoch 00002: loss improved from 0.54170 to 0.51930, saving model to model/best.h5\n",
            "150/150 [==============================] - 52s 345ms/step - loss: 0.5193 - accuracy: 0.9629\n",
            "Epoch 3/5\n",
            "150/150 [==============================] - ETA: 0s - loss: 0.5156 - accuracy: 0.9733WARNING:tensorflow:Early stopping conditioned on metric `val_loss` which is not available. Available metrics are: loss,accuracy\n"
          ],
          "name": "stdout"
        },
        {
          "output_type": "stream",
          "text": [
            "WARNING:tensorflow:Early stopping conditioned on metric `val_loss` which is not available. Available metrics are: loss,accuracy\n"
          ],
          "name": "stderr"
        },
        {
          "output_type": "stream",
          "text": [
            "\n",
            "Epoch 00003: loss improved from 0.51930 to 0.51555, saving model to model/best.h5\n",
            "150/150 [==============================] - 52s 348ms/step - loss: 0.5156 - accuracy: 0.9733\n",
            "Epoch 4/5\n",
            "150/150 [==============================] - ETA: 0s - loss: 0.5147 - accuracy: 0.9737WARNING:tensorflow:Early stopping conditioned on metric `val_loss` which is not available. Available metrics are: loss,accuracy\n"
          ],
          "name": "stdout"
        },
        {
          "output_type": "stream",
          "text": [
            "WARNING:tensorflow:Early stopping conditioned on metric `val_loss` which is not available. Available metrics are: loss,accuracy\n"
          ],
          "name": "stderr"
        },
        {
          "output_type": "stream",
          "text": [
            "\n",
            "Epoch 00004: loss improved from 0.51555 to 0.51471, saving model to model/best.h5\n",
            "150/150 [==============================] - 52s 346ms/step - loss: 0.5147 - accuracy: 0.9737\n",
            "Epoch 5/5\n",
            "150/150 [==============================] - ETA: 0s - loss: 0.5144 - accuracy: 0.9746WARNING:tensorflow:Early stopping conditioned on metric `val_loss` which is not available. Available metrics are: loss,accuracy\n"
          ],
          "name": "stdout"
        },
        {
          "output_type": "stream",
          "text": [
            "WARNING:tensorflow:Early stopping conditioned on metric `val_loss` which is not available. Available metrics are: loss,accuracy\n"
          ],
          "name": "stderr"
        },
        {
          "output_type": "stream",
          "text": [
            "\n",
            "Epoch 00005: loss improved from 0.51471 to 0.51437, saving model to model/best.h5\n",
            "150/150 [==============================] - 52s 347ms/step - loss: 0.5144 - accuracy: 0.9746\n"
          ],
          "name": "stdout"
        },
        {
          "output_type": "stream",
          "text": [
            "2400it [00:00, 3282.69it/s]\n",
            "600it [00:00, 3388.99it/s]\n"
          ],
          "name": "stderr"
        },
        {
          "output_type": "stream",
          "text": [
            "\n",
            "Fold: 2 \n",
            "\n",
            "----------------------------\n",
            "Epoch 1/5\n",
            "150/150 [==============================] - ETA: 0s - loss: 0.5305 - accuracy: 0.9433WARNING:tensorflow:Early stopping conditioned on metric `val_loss` which is not available. Available metrics are: loss,accuracy\n"
          ],
          "name": "stdout"
        },
        {
          "output_type": "stream",
          "text": [
            "WARNING:tensorflow:Early stopping conditioned on metric `val_loss` which is not available. Available metrics are: loss,accuracy\n"
          ],
          "name": "stderr"
        },
        {
          "output_type": "stream",
          "text": [
            "\n",
            "Epoch 00001: loss improved from inf to 0.53053, saving model to model/best.h5\n",
            "150/150 [==============================] - 53s 351ms/step - loss: 0.5305 - accuracy: 0.9433\n",
            "Epoch 2/5\n",
            "150/150 [==============================] - ETA: 0s - loss: 0.5144 - accuracy: 0.9725WARNING:tensorflow:Early stopping conditioned on metric `val_loss` which is not available. Available metrics are: loss,accuracy\n"
          ],
          "name": "stdout"
        },
        {
          "output_type": "stream",
          "text": [
            "WARNING:tensorflow:Early stopping conditioned on metric `val_loss` which is not available. Available metrics are: loss,accuracy\n"
          ],
          "name": "stderr"
        },
        {
          "output_type": "stream",
          "text": [
            "\n",
            "Epoch 00002: loss improved from 0.53053 to 0.51438, saving model to model/best.h5\n",
            "150/150 [==============================] - 52s 344ms/step - loss: 0.5144 - accuracy: 0.9725\n",
            "Epoch 3/5\n",
            "150/150 [==============================] - ETA: 0s - loss: 0.5108 - accuracy: 0.9796WARNING:tensorflow:Early stopping conditioned on metric `val_loss` which is not available. Available metrics are: loss,accuracy\n"
          ],
          "name": "stdout"
        },
        {
          "output_type": "stream",
          "text": [
            "WARNING:tensorflow:Early stopping conditioned on metric `val_loss` which is not available. Available metrics are: loss,accuracy\n"
          ],
          "name": "stderr"
        },
        {
          "output_type": "stream",
          "text": [
            "\n",
            "Epoch 00003: loss improved from 0.51438 to 0.51084, saving model to model/best.h5\n",
            "150/150 [==============================] - 52s 347ms/step - loss: 0.5108 - accuracy: 0.9796\n",
            "Epoch 4/5\n",
            "150/150 [==============================] - ETA: 0s - loss: 0.5106 - accuracy: 0.9792WARNING:tensorflow:Early stopping conditioned on metric `val_loss` which is not available. Available metrics are: loss,accuracy\n"
          ],
          "name": "stdout"
        },
        {
          "output_type": "stream",
          "text": [
            "WARNING:tensorflow:Early stopping conditioned on metric `val_loss` which is not available. Available metrics are: loss,accuracy\n"
          ],
          "name": "stderr"
        },
        {
          "output_type": "stream",
          "text": [
            "\n",
            "Epoch 00004: loss improved from 0.51084 to 0.51065, saving model to model/best.h5\n",
            "150/150 [==============================] - 52s 346ms/step - loss: 0.5106 - accuracy: 0.9792\n",
            "Epoch 5/5\n",
            "150/150 [==============================] - ETA: 0s - loss: 0.5087 - accuracy: 0.9842WARNING:tensorflow:Early stopping conditioned on metric `val_loss` which is not available. Available metrics are: loss,accuracy\n"
          ],
          "name": "stdout"
        },
        {
          "output_type": "stream",
          "text": [
            "WARNING:tensorflow:Early stopping conditioned on metric `val_loss` which is not available. Available metrics are: loss,accuracy\n"
          ],
          "name": "stderr"
        },
        {
          "output_type": "stream",
          "text": [
            "\n",
            "Epoch 00005: loss improved from 0.51065 to 0.50874, saving model to model/best.h5\n",
            "150/150 [==============================] - 52s 346ms/step - loss: 0.5087 - accuracy: 0.9842\n"
          ],
          "name": "stdout"
        },
        {
          "output_type": "stream",
          "text": [
            "2400it [00:00, 3373.15it/s]\n",
            "600it [00:00, 3454.60it/s]\n"
          ],
          "name": "stderr"
        },
        {
          "output_type": "stream",
          "text": [
            "\n",
            "Fold: 3 \n",
            "\n",
            "----------------------------\n",
            "Epoch 1/5\n",
            "150/150 [==============================] - ETA: 0s - loss: 0.5230 - accuracy: 0.9679WARNING:tensorflow:Early stopping conditioned on metric `val_loss` which is not available. Available metrics are: loss,accuracy\n"
          ],
          "name": "stdout"
        },
        {
          "output_type": "stream",
          "text": [
            "WARNING:tensorflow:Early stopping conditioned on metric `val_loss` which is not available. Available metrics are: loss,accuracy\n"
          ],
          "name": "stderr"
        },
        {
          "output_type": "stream",
          "text": [
            "\n",
            "Epoch 00001: loss improved from inf to 0.52296, saving model to model/best.h5\n",
            "150/150 [==============================] - 53s 352ms/step - loss: 0.5230 - accuracy: 0.9679\n",
            "Epoch 2/5\n",
            "150/150 [==============================] - ETA: 0s - loss: 0.5126 - accuracy: 0.9829WARNING:tensorflow:Early stopping conditioned on metric `val_loss` which is not available. Available metrics are: loss,accuracy\n"
          ],
          "name": "stdout"
        },
        {
          "output_type": "stream",
          "text": [
            "WARNING:tensorflow:Early stopping conditioned on metric `val_loss` which is not available. Available metrics are: loss,accuracy\n"
          ],
          "name": "stderr"
        },
        {
          "output_type": "stream",
          "text": [
            "\n",
            "Epoch 00002: loss improved from 0.52296 to 0.51260, saving model to model/best.h5\n",
            "150/150 [==============================] - 52s 346ms/step - loss: 0.5126 - accuracy: 0.9829\n",
            "Epoch 3/5\n",
            "150/150 [==============================] - ETA: 0s - loss: 0.5128 - accuracy: 0.9821WARNING:tensorflow:Early stopping conditioned on metric `val_loss` which is not available. Available metrics are: loss,accuracy\n"
          ],
          "name": "stdout"
        },
        {
          "output_type": "stream",
          "text": [
            "WARNING:tensorflow:Early stopping conditioned on metric `val_loss` which is not available. Available metrics are: loss,accuracy\n"
          ],
          "name": "stderr"
        },
        {
          "output_type": "stream",
          "text": [
            "\n",
            "Epoch 00003: loss did not improve from 0.51260\n",
            "\b\b\b\b\b\b\b\b\b\b\b\b\b\b\b\b\b\b\b\b\b\b\b\b\b\b\b\b\b\b\b\b\b\b\b\b\b\b\b\b\b\b\b\b\b\b\b\b\b\b\b\b\b\b\b\b\b\b\b\b\b\b\b\b\b\b\b\b\b\b\b\b\b\b\b\b\b\b\b\b\b\b\b\b\r150/150 [==============================] - 47s 314ms/step - loss: 0.5128 - accuracy: 0.9821\n",
            "Epoch 4/5\n",
            "150/150 [==============================] - ETA: 0s - loss: 0.5110 - accuracy: 0.9862WARNING:tensorflow:Early stopping conditioned on metric `val_loss` which is not available. Available metrics are: loss,accuracy\n"
          ],
          "name": "stdout"
        },
        {
          "output_type": "stream",
          "text": [
            "WARNING:tensorflow:Early stopping conditioned on metric `val_loss` which is not available. Available metrics are: loss,accuracy\n"
          ],
          "name": "stderr"
        },
        {
          "output_type": "stream",
          "text": [
            "\n",
            "Epoch 00004: loss improved from 0.51260 to 0.51102, saving model to model/best.h5\n",
            "150/150 [==============================] - 52s 346ms/step - loss: 0.5110 - accuracy: 0.9862\n",
            "Epoch 5/5\n",
            "150/150 [==============================] - ETA: 0s - loss: 0.5108 - accuracy: 0.9858WARNING:tensorflow:Early stopping conditioned on metric `val_loss` which is not available. Available metrics are: loss,accuracy\n"
          ],
          "name": "stdout"
        },
        {
          "output_type": "stream",
          "text": [
            "WARNING:tensorflow:Early stopping conditioned on metric `val_loss` which is not available. Available metrics are: loss,accuracy\n"
          ],
          "name": "stderr"
        },
        {
          "output_type": "stream",
          "text": [
            "\n",
            "Epoch 00005: loss improved from 0.51102 to 0.51082, saving model to model/best.h5\n",
            "150/150 [==============================] - 52s 348ms/step - loss: 0.5108 - accuracy: 0.9858\n"
          ],
          "name": "stdout"
        },
        {
          "output_type": "stream",
          "text": [
            "2400it [00:00, 3185.11it/s]\n",
            "600it [00:00, 3350.46it/s]\n"
          ],
          "name": "stderr"
        },
        {
          "output_type": "stream",
          "text": [
            "\n",
            "Fold: 4 \n",
            "\n",
            "----------------------------\n",
            "Epoch 1/5\n",
            "150/150 [==============================] - ETA: 0s - loss: 0.5226 - accuracy: 0.9617WARNING:tensorflow:Early stopping conditioned on metric `val_loss` which is not available. Available metrics are: loss,accuracy\n"
          ],
          "name": "stdout"
        },
        {
          "output_type": "stream",
          "text": [
            "WARNING:tensorflow:Early stopping conditioned on metric `val_loss` which is not available. Available metrics are: loss,accuracy\n"
          ],
          "name": "stderr"
        },
        {
          "output_type": "stream",
          "text": [
            "\n",
            "Epoch 00001: loss improved from inf to 0.52262, saving model to model/best.h5\n",
            "150/150 [==============================] - 53s 353ms/step - loss: 0.5226 - accuracy: 0.9617\n",
            "Epoch 2/5\n",
            "150/150 [==============================] - ETA: 0s - loss: 0.5082 - accuracy: 0.9867WARNING:tensorflow:Early stopping conditioned on metric `val_loss` which is not available. Available metrics are: loss,accuracy\n"
          ],
          "name": "stdout"
        },
        {
          "output_type": "stream",
          "text": [
            "WARNING:tensorflow:Early stopping conditioned on metric `val_loss` which is not available. Available metrics are: loss,accuracy\n"
          ],
          "name": "stderr"
        },
        {
          "output_type": "stream",
          "text": [
            "\n",
            "Epoch 00002: loss improved from 0.52262 to 0.50823, saving model to model/best.h5\n",
            "150/150 [==============================] - 52s 348ms/step - loss: 0.5082 - accuracy: 0.9867\n",
            "Epoch 3/5\n",
            "150/150 [==============================] - ETA: 0s - loss: 0.5062 - accuracy: 0.9908WARNING:tensorflow:Early stopping conditioned on metric `val_loss` which is not available. Available metrics are: loss,accuracy\n"
          ],
          "name": "stdout"
        },
        {
          "output_type": "stream",
          "text": [
            "WARNING:tensorflow:Early stopping conditioned on metric `val_loss` which is not available. Available metrics are: loss,accuracy\n"
          ],
          "name": "stderr"
        },
        {
          "output_type": "stream",
          "text": [
            "\n",
            "Epoch 00003: loss improved from 0.50823 to 0.50622, saving model to model/best.h5\n",
            "150/150 [==============================] - 52s 349ms/step - loss: 0.5062 - accuracy: 0.9908\n",
            "Epoch 4/5\n",
            "150/150 [==============================] - ETA: 0s - loss: 0.5051 - accuracy: 0.9925WARNING:tensorflow:Early stopping conditioned on metric `val_loss` which is not available. Available metrics are: loss,accuracy\n"
          ],
          "name": "stdout"
        },
        {
          "output_type": "stream",
          "text": [
            "WARNING:tensorflow:Early stopping conditioned on metric `val_loss` which is not available. Available metrics are: loss,accuracy\n"
          ],
          "name": "stderr"
        },
        {
          "output_type": "stream",
          "text": [
            "\n",
            "Epoch 00004: loss improved from 0.50622 to 0.50515, saving model to model/best.h5\n",
            "150/150 [==============================] - 52s 350ms/step - loss: 0.5051 - accuracy: 0.9925\n",
            "Epoch 5/5\n",
            "150/150 [==============================] - ETA: 0s - loss: 0.5051 - accuracy: 0.9925WARNING:tensorflow:Early stopping conditioned on metric `val_loss` which is not available. Available metrics are: loss,accuracy\n"
          ],
          "name": "stdout"
        },
        {
          "output_type": "stream",
          "text": [
            "WARNING:tensorflow:Early stopping conditioned on metric `val_loss` which is not available. Available metrics are: loss,accuracy\n"
          ],
          "name": "stderr"
        },
        {
          "output_type": "stream",
          "text": [
            "\n",
            "Epoch 00005: loss improved from 0.50515 to 0.50511, saving model to model/best.h5\n",
            "150/150 [==============================] - 52s 347ms/step - loss: 0.5051 - accuracy: 0.9925\n"
          ],
          "name": "stdout"
        },
        {
          "output_type": "stream",
          "text": [
            "2400it [00:00, 3036.38it/s]\n",
            "600it [00:00, 3189.78it/s]\n"
          ],
          "name": "stderr"
        },
        {
          "output_type": "stream",
          "text": [
            "\n",
            "Fold: 5 \n",
            "\n",
            "----------------------------\n",
            "Epoch 1/5\n",
            "150/150 [==============================] - ETA: 0s - loss: 0.5279 - accuracy: 0.9583WARNING:tensorflow:Early stopping conditioned on metric `val_loss` which is not available. Available metrics are: loss,accuracy\n"
          ],
          "name": "stdout"
        },
        {
          "output_type": "stream",
          "text": [
            "WARNING:tensorflow:Early stopping conditioned on metric `val_loss` which is not available. Available metrics are: loss,accuracy\n"
          ],
          "name": "stderr"
        },
        {
          "output_type": "stream",
          "text": [
            "\n",
            "Epoch 00001: loss improved from inf to 0.52793, saving model to model/best.h5\n",
            "150/150 [==============================] - 53s 355ms/step - loss: 0.5279 - accuracy: 0.9583\n",
            "Epoch 2/5\n",
            "150/150 [==============================] - ETA: 0s - loss: 0.5119 - accuracy: 0.9900WARNING:tensorflow:Early stopping conditioned on metric `val_loss` which is not available. Available metrics are: loss,accuracy\n"
          ],
          "name": "stdout"
        },
        {
          "output_type": "stream",
          "text": [
            "WARNING:tensorflow:Early stopping conditioned on metric `val_loss` which is not available. Available metrics are: loss,accuracy\n"
          ],
          "name": "stderr"
        },
        {
          "output_type": "stream",
          "text": [
            "\n",
            "Epoch 00002: loss improved from 0.52793 to 0.51188, saving model to model/best.h5\n",
            "150/150 [==============================] - 53s 355ms/step - loss: 0.5119 - accuracy: 0.9900\n",
            "Epoch 3/5\n",
            "150/150 [==============================] - ETA: 0s - loss: 0.5138 - accuracy: 0.9867WARNING:tensorflow:Early stopping conditioned on metric `val_loss` which is not available. Available metrics are: loss,accuracy\n"
          ],
          "name": "stdout"
        },
        {
          "output_type": "stream",
          "text": [
            "WARNING:tensorflow:Early stopping conditioned on metric `val_loss` which is not available. Available metrics are: loss,accuracy\n"
          ],
          "name": "stderr"
        },
        {
          "output_type": "stream",
          "text": [
            "\n",
            "Epoch 00003: loss did not improve from 0.51188\n",
            "\b\b\b\b\b\b\b\b\b\b\b\b\b\b\b\b\b\b\b\b\b\b\b\b\b\b\b\b\b\b\b\b\b\b\b\b\b\b\b\b\b\b\b\b\b\b\b\b\b\b\b\b\b\b\b\b\b\b\b\b\b\b\b\b\b\b\b\b\b\b\b\b\b\b\b\b\b\b\b\b\b\b\b\b\r150/150 [==============================] - 47s 314ms/step - loss: 0.5138 - accuracy: 0.9867\n",
            "Epoch 4/5\n",
            "150/150 [==============================] - ETA: 0s - loss: 0.5115 - accuracy: 0.9904WARNING:tensorflow:Early stopping conditioned on metric `val_loss` which is not available. Available metrics are: loss,accuracy\n"
          ],
          "name": "stdout"
        },
        {
          "output_type": "stream",
          "text": [
            "WARNING:tensorflow:Early stopping conditioned on metric `val_loss` which is not available. Available metrics are: loss,accuracy\n"
          ],
          "name": "stderr"
        },
        {
          "output_type": "stream",
          "text": [
            "\n",
            "Epoch 00004: loss improved from 0.51188 to 0.51151, saving model to model/best.h5\n",
            "150/150 [==============================] - 52s 346ms/step - loss: 0.5115 - accuracy: 0.9904\n",
            "Epoch 5/5\n",
            "150/150 [==============================] - ETA: 0s - loss: 0.5115 - accuracy: 0.9904WARNING:tensorflow:Early stopping conditioned on metric `val_loss` which is not available. Available metrics are: loss,accuracy\n"
          ],
          "name": "stdout"
        },
        {
          "output_type": "stream",
          "text": [
            "WARNING:tensorflow:Early stopping conditioned on metric `val_loss` which is not available. Available metrics are: loss,accuracy\n"
          ],
          "name": "stderr"
        },
        {
          "output_type": "stream",
          "text": [
            "\n",
            "Epoch 00005: loss improved from 0.51151 to 0.51147, saving model to model/best.h5\n",
            "150/150 [==============================] - 52s 348ms/step - loss: 0.5115 - accuracy: 0.9904\n"
          ],
          "name": "stdout"
        }
      ]
    },
    {
      "cell_type": "code",
      "metadata": {
        "id": "PcDvOnryWJKd",
        "colab_type": "code",
        "colab": {
          "base_uri": "https://localhost:8080/",
          "height": 295
        },
        "outputId": "15419b82-b717-4ca4-f7d5-e7b41ea8ba49"
      },
      "source": [
        "y_true = np.concatenate(fold_y)\n",
        "y_pred = np.concatenate(fold_pred)\n",
        "cm = confusion_matrix(y_true, y_pred, normalize='true')\n",
        "\n",
        "ax = plt.subplot()\n",
        "sns.heatmap(cm, annot=True, linewidth=.5)\n",
        "ax.set_xlabel('Predicted labels')\n",
        "ax.set_ylabel('True labels')\n",
        "ax.set_title('Confusion Matrix');"
      ],
      "execution_count": 24,
      "outputs": [
        {
          "output_type": "display_data",
          "data": {
            "image/png": "[encoded data removed]",
            "text/plain": [
              "<Figure size 432x288 with 2 Axes>"
            ]
          },
          "metadata": {
            "tags": [],
            "needs_background": "light"
          }
        }
      ]
    },
    {
      "cell_type": "markdown",
      "metadata": {
        "id": "-afMVpuiAesF",
        "colab_type": "text"
      },
      "source": [
        "If we apply the confusion matrix here, we see that the results are pretty good no matter what type of label we have. This is much better in term of results, not only for the value of the accuracy but also for not having bias into any of the labels.\n",
        "\n",
        "The split done on the other dataset could be biased by the partition of the data, remember that was always the same split (in order to reproduce the samples),so it could split in a way that, for example, was taking out too much positive reviews."
      ]
    },
    {
      "cell_type": "code",
      "metadata": {
        "id": "hNCjrZKjzfK4",
        "colab_type": "code",
        "colab": {
          "base_uri": "https://localhost:8080/",
          "height": 173
        },
        "outputId": "274cbbfa-cf08-4b16-cfcb-9a8cea2747c4"
      },
      "source": [
        "print(classification_report(y_true, y_pred))"
      ],
      "execution_count": 26,
      "outputs": [
        {
          "output_type": "stream",
          "text": [
            "              precision    recall  f1-score   support\n",
            "\n",
            "           0       0.97      0.98      0.98      1502\n",
            "           1       0.98      0.97      0.98      1498\n",
            "\n",
            "    accuracy                           0.98      3000\n",
            "   macro avg       0.98      0.98      0.98      3000\n",
            "weighted avg       0.98      0.98      0.98      3000\n",
            "\n"
          ],
          "name": "stdout"
        }
      ]
    }
  ]
}