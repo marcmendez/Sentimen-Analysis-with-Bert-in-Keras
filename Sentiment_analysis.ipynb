{
  "nbformat": 4,
  "nbformat_minor": 0,
  "metadata": {
    "colab": {
      "name": "Data_Science_Test (Version train, test).ipynb",
      "provenance": [],
      "collapsed_sections": [],
      "toc_visible": true
    },
    "kernelspec": {
      "name": "python3",
      "display_name": "Python 3"
    },
    "accelerator": "GPU"
  },
  "cells": [
    {
      "cell_type": "markdown",
      "metadata": {
        "id": "SYHni0btOko_",
        "colab_type": "text"
      },
      "source": [
        "##Downloads of packages and usefull imports."
      ]
    },
    {
      "cell_type": "code",
      "metadata": {
        "id": "F-eSwEHGLUzh",
        "colab_type": "code",
        "colab": {
          "base_uri": "https://localhost:8080/",
          "height": 417
        },
        "outputId": "52247d32-01dc-4d2a-c1f4-3dca4e845eae"
      },
      "source": [
        "!pip install bert-for-tf2"
      ],
      "execution_count": 1,
      "outputs": [
        {
          "output_type": "stream",
          "text": [
            "Collecting bert-for-tf2\n",
            "\u001b[?25l  Downloading https://files.pythonhosted.org/packages/af/c1/015648a2186b25c6de79d15bec40d3d946fcf1dd5067d1c1b28009506486/bert-for-tf2-0.14.6.tar.gz (40kB)\n",
            "\r\u001b[K     |████████                        | 10kB 18.8MB/s eta 0:00:01\r\u001b[K     |████████████████                | 20kB 4.3MB/s eta 0:00:01\r\u001b[K     |████████████████████████▏       | 30kB 5.4MB/s eta 0:00:01\r\u001b[K     |████████████████████████████████| 40kB 3.0MB/s \n",
            "\u001b[?25hCollecting py-params>=0.9.6\n",
            "  Downloading https://files.pythonhosted.org/packages/a4/bf/c1c70d5315a8677310ea10a41cfc41c5970d9b37c31f9c90d4ab98021fd1/py-params-0.9.7.tar.gz\n",
            "Collecting params-flow>=0.8.0\n",
            "  Downloading https://files.pythonhosted.org/packages/a9/95/ff49f5ebd501f142a6f0aaf42bcfd1c192dc54909d1d9eb84ab031d46056/params-flow-0.8.2.tar.gz\n",
            "Requirement already satisfied: numpy in /usr/local/lib/python3.6/dist-packages (from params-flow>=0.8.0->bert-for-tf2) (1.18.5)\n",
            "Requirement already satisfied: tqdm in /usr/local/lib/python3.6/dist-packages (from params-flow>=0.8.0->bert-for-tf2) (4.41.1)\n",
            "Building wheels for collected packages: bert-for-tf2, py-params, params-flow\n",
            "  Building wheel for bert-for-tf2 (setup.py) ... \u001b[?25l\u001b[?25hdone\n",
            "  Created wheel for bert-for-tf2: filename=bert_for_tf2-0.14.6-cp36-none-any.whl size=30318 sha256=06feb7fdb40f15ff6872db82e4b64a4772154d908f2bc325a73eb1a30ed54b46\n",
            "  Stored in directory: /root/.cache/pip/wheels/07/a0/b4/75b0601ebaa41e517a797fe9cea119c789664c8408f8a74ae9\n",
            "  Building wheel for py-params (setup.py) ... \u001b[?25l\u001b[?25hdone\n",
            "  Created wheel for py-params: filename=py_params-0.9.7-cp36-none-any.whl size=7304 sha256=2be0ba7d841215c40548d3ddde1b63277971f2822a3ef9234bd48d96c2562959\n",
            "  Stored in directory: /root/.cache/pip/wheels/67/f5/19/b461849a50aefdf4bab47c4756596e82ee2118b8278e5a1980\n",
            "  Building wheel for params-flow (setup.py) ... \u001b[?25l\u001b[?25hdone\n",
            "  Created wheel for params-flow: filename=params_flow-0.8.2-cp36-none-any.whl size=19475 sha256=c37dfdf8483c36ec380c788ac4b8943e6c78b0d40c3641485257541831267391\n",
            "  Stored in directory: /root/.cache/pip/wheels/08/c8/7f/81c86b9ff2b86e2c477e3914175be03e679e596067dc630c06\n",
            "Successfully built bert-for-tf2 py-params params-flow\n",
            "Installing collected packages: py-params, params-flow, bert-for-tf2\n",
            "Successfully installed bert-for-tf2-0.14.6 params-flow-0.8.2 py-params-0.9.7\n"
          ],
          "name": "stdout"
        }
      ]
    },
    {
      "cell_type": "code",
      "metadata": {
        "id": "avFhQXrZOtTI",
        "colab_type": "code",
        "colab": {
          "base_uri": "https://localhost:8080/",
          "height": 72
        },
        "outputId": "767917e3-4be7-4bfd-d42e-efe886904326"
      },
      "source": [
        "import pandas as pd\n",
        "import numpy as np\n",
        "import re\n",
        "\n",
        "import matplotlib.pyplot as plt\n",
        "from wordcloud import WordCloud\n",
        "from sklearn.model_selection import train_test_split\n",
        "\n",
        "#import nltk\n",
        "#nltk.download('punkt')\n",
        "#from nltk.corpus import stopwords\n",
        "#nltk.download('stopwords')\n",
        "#from nltk.stem import PorterStemmer\n",
        "\n",
        "import os\n",
        "from tqdm import tqdm\n",
        "\n",
        "import tensorflow as tf\n",
        "from tensorflow import keras\n",
        "from keras.callbacks import EarlyStopping\n",
        "from keras.callbacks import ModelCheckpoint\n",
        "\n",
        "import bert\n",
        "from bert.tokenization.bert_tokenization import FullTokenizer\n",
        "\n",
        "#from bert import BertModelLayer\n",
        "#from bert.loader import StockBertConfig, map_stock_config_to_params, load_stock_weights\n",
        "\n",
        "from sklearn.metrics import confusion_matrix, classification_report\n",
        "import seaborn as sns"
      ],
      "execution_count": 2,
      "outputs": [
        {
          "output_type": "stream",
          "text": [
            "/usr/local/lib/python3.6/dist-packages/statsmodels/tools/_testing.py:19: FutureWarning: pandas.util.testing is deprecated. Use the functions in the public API at pandas.testing instead.\n",
            "  import pandas.util.testing as tm\n"
          ],
          "name": "stderr"
        }
      ]
    },
    {
      "cell_type": "markdown",
      "metadata": {
        "id": "g84KJ9_1OYWI",
        "colab_type": "text"
      },
      "source": [
        "Download the data from my personal drive(Google collab deletes folders) and store the concatenation of all the datasets into 'data/total.csv'."
      ]
    },
    {
      "cell_type": "code",
      "metadata": {
        "id": "gUDyN8_6O3fP",
        "colab_type": "code",
        "colab": {
          "base_uri": "https://localhost:8080/",
          "height": 35
        },
        "outputId": "7625af68-fddd-489b-b666-b0697ceadafe"
      },
      "source": [
        "from google.colab import drive\n",
        "drive.mount('/content/drive')"
      ],
      "execution_count": 3,
      "outputs": [
        {
          "output_type": "stream",
          "text": [
            "Mounted at /content/drive\n"
          ],
          "name": "stdout"
        }
      ]
    },
    {
      "cell_type": "code",
      "metadata": {
        "id": "Yo9bv-rGNvhb",
        "colab_type": "code",
        "colab": {
          "base_uri": "https://localhost:8080/",
          "height": 72
        },
        "outputId": "8e619d45-3987-44a8-b4b4-af47e02b9d69"
      },
      "source": [
        "websites = ['amazon', 'imdb', 'yelp']\n",
        "df_list_web=[]\n",
        "for website in websites:\n",
        "  df_web = pd.read_csv('/content/drive/My Drive/data/' + website + '_labelled.txt', sep=\"\\\\t\", header=None)\n",
        "  df_list_web.append(df_web)\n",
        "df= pd.concat(df_list_web, axis=0, ignore_index=True)"
      ],
      "execution_count": 4,
      "outputs": [
        {
          "output_type": "stream",
          "text": [
            "/usr/local/lib/python3.6/dist-packages/ipykernel_launcher.py:4: ParserWarning: Falling back to the 'python' engine because the 'c' engine does not support regex separators (separators > 1 char and different from '\\s+' are interpreted as regex); you can avoid this warning by specifying engine='python'.\n",
            "  after removing the cwd from sys.path.\n"
          ],
          "name": "stderr"
        }
      ]
    },
    {
      "cell_type": "code",
      "metadata": {
        "id": "0uo8C2wOPbeK",
        "colab_type": "code",
        "colab": {}
      },
      "source": [
        "os.makedirs(\"data\", exist_ok=True)"
      ],
      "execution_count": 5,
      "outputs": []
    },
    {
      "cell_type": "code",
      "metadata": {
        "id": "4Ivjm3XPQo1I",
        "colab_type": "code",
        "colab": {
          "base_uri": "https://localhost:8080/",
          "height": 407
        },
        "outputId": "9a35d463-4110-49a1-fcdc-182b5afcb959"
      },
      "source": [
        "df.columns = ['text', 'score']\n",
        "df.to_csv('data/total.csv')\n",
        "df"
      ],
      "execution_count": 6,
      "outputs": [
        {
          "output_type": "execute_result",
          "data": {
            "text/html": [
              "<div>\n",
              "<style scoped>\n",
              "    .dataframe tbody tr th:only-of-type {\n",
              "        vertical-align: middle;\n",
              "    }\n",
              "\n",
              "    .dataframe tbody tr th {\n",
              "        vertical-align: top;\n",
              "    }\n",
              "\n",
              "    .dataframe thead th {\n",
              "        text-align: right;\n",
              "    }\n",
              "</style>\n",
              "<table border=\"1\" class=\"dataframe\">\n",
              "  <thead>\n",
              "    <tr style=\"text-align: right;\">\n",
              "      <th></th>\n",
              "      <th>text</th>\n",
              "      <th>score</th>\n",
              "    </tr>\n",
              "  </thead>\n",
              "  <tbody>\n",
              "    <tr>\n",
              "      <th>0</th>\n",
              "      <td>So there is no way for me to plug it in here i...</td>\n",
              "      <td>0</td>\n",
              "    </tr>\n",
              "    <tr>\n",
              "      <th>1</th>\n",
              "      <td>Good case, Excellent value.</td>\n",
              "      <td>1</td>\n",
              "    </tr>\n",
              "    <tr>\n",
              "      <th>2</th>\n",
              "      <td>Great for the jawbone.</td>\n",
              "      <td>1</td>\n",
              "    </tr>\n",
              "    <tr>\n",
              "      <th>3</th>\n",
              "      <td>Tied to charger for conversations lasting more...</td>\n",
              "      <td>0</td>\n",
              "    </tr>\n",
              "    <tr>\n",
              "      <th>4</th>\n",
              "      <td>The mic is great.</td>\n",
              "      <td>1</td>\n",
              "    </tr>\n",
              "    <tr>\n",
              "      <th>...</th>\n",
              "      <td>...</td>\n",
              "      <td>...</td>\n",
              "    </tr>\n",
              "    <tr>\n",
              "      <th>2995</th>\n",
              "      <td>I think food should have flavor and texture an...</td>\n",
              "      <td>0</td>\n",
              "    </tr>\n",
              "    <tr>\n",
              "      <th>2996</th>\n",
              "      <td>Appetite instantly gone.</td>\n",
              "      <td>0</td>\n",
              "    </tr>\n",
              "    <tr>\n",
              "      <th>2997</th>\n",
              "      <td>Overall I was not impressed and would not go b...</td>\n",
              "      <td>0</td>\n",
              "    </tr>\n",
              "    <tr>\n",
              "      <th>2998</th>\n",
              "      <td>The whole experience was underwhelming, and I ...</td>\n",
              "      <td>0</td>\n",
              "    </tr>\n",
              "    <tr>\n",
              "      <th>2999</th>\n",
              "      <td>Then, as if I hadn't wasted enough of my life ...</td>\n",
              "      <td>0</td>\n",
              "    </tr>\n",
              "  </tbody>\n",
              "</table>\n",
              "<p>3000 rows × 2 columns</p>\n",
              "</div>"
            ],
            "text/plain": [
              "                                                   text  score\n",
              "0     So there is no way for me to plug it in here i...      0\n",
              "1                           Good case, Excellent value.      1\n",
              "2                                Great for the jawbone.      1\n",
              "3     Tied to charger for conversations lasting more...      0\n",
              "4                                     The mic is great.      1\n",
              "...                                                 ...    ...\n",
              "2995  I think food should have flavor and texture an...      0\n",
              "2996                           Appetite instantly gone.      0\n",
              "2997  Overall I was not impressed and would not go b...      0\n",
              "2998  The whole experience was underwhelming, and I ...      0\n",
              "2999  Then, as if I hadn't wasted enough of my life ...      0\n",
              "\n",
              "[3000 rows x 2 columns]"
            ]
          },
          "metadata": {
            "tags": []
          },
          "execution_count": 6
        }
      ]
    },
    {
      "cell_type": "markdown",
      "metadata": {
        "id": "IBxj0fIba0Hh",
        "colab_type": "text"
      },
      "source": [
        "#Data Analysys\n",
        "Search any interesting facts that can help us on the preprocessing stages."
      ]
    },
    {
      "cell_type": "code",
      "metadata": {
        "id": "xR1-x2qTcakK",
        "colab_type": "code",
        "colab": {
          "base_uri": "https://localhost:8080/",
          "height": 35
        },
        "outputId": "1ac6002a-85b4-4de3-e034-5a51552bc518"
      },
      "source": [
        "df.text.isnull().sum()"
      ],
      "execution_count": 7,
      "outputs": [
        {
          "output_type": "execute_result",
          "data": {
            "text/plain": [
              "0"
            ]
          },
          "metadata": {
            "tags": []
          },
          "execution_count": 7
        }
      ]
    },
    {
      "cell_type": "code",
      "metadata": {
        "id": "3KeDvNOScj5_",
        "colab_type": "code",
        "colab": {
          "base_uri": "https://localhost:8080/",
          "height": 35
        },
        "outputId": "e1b0fdd2-213d-4334-81db-3c76d3db118a"
      },
      "source": [
        "df.score.isnull().sum()"
      ],
      "execution_count": 8,
      "outputs": [
        {
          "output_type": "execute_result",
          "data": {
            "text/plain": [
              "0"
            ]
          },
          "metadata": {
            "tags": []
          },
          "execution_count": 8
        }
      ]
    },
    {
      "cell_type": "code",
      "metadata": {
        "id": "qlfTADdKcp_t",
        "colab_type": "code",
        "colab": {
          "base_uri": "https://localhost:8080/",
          "height": 121
        },
        "outputId": "d011dd41-e43e-4e9c-dc81-ad526363a14a"
      },
      "source": [
        "print('Positive review example: \\n', df[df.score==1].text.values[0])\n",
        "print('\\n')\n",
        "print('Negative review example: \\n', df[df.score==0].text.values[0])"
      ],
      "execution_count": 9,
      "outputs": [
        {
          "output_type": "stream",
          "text": [
            "Positive review example: \n",
            " Good case, Excellent value.\n",
            "\n",
            "\n",
            "Negative review example: \n",
            " So there is no way for me to plug it in here in the US unless I go by a converter.\n"
          ],
          "name": "stdout"
        }
      ]
    },
    {
      "cell_type": "code",
      "metadata": {
        "id": "5qbxqMc5L5_L",
        "colab_type": "code",
        "colab": {
          "base_uri": "https://localhost:8080/",
          "height": 295
        },
        "outputId": "0fc060f3-f8f7-48bd-b477-e692e29b380c"
      },
      "source": [
        "chart = sns.countplot(df.score)\n",
        "plt.title(\"Number of reviews per score\")\n",
        "plt.xticks(df.score, ['Negative', 'Postitive']);"
      ],
      "execution_count": 10,
      "outputs": [
        {
          "output_type": "display_data",
          "data": {
            "image/png": "[encoded data removed]",
            "text/plain": [
              "<Figure size 432x288 with 1 Axes>"
            ]
          },
          "metadata": {
            "tags": [],
            "needs_background": "light"
          }
        }
      ]
    },
    {
      "cell_type": "code",
      "metadata": {
        "id": "b_RY8yZjuJTV",
        "colab_type": "code",
        "colab": {
          "base_uri": "https://localhost:8080/",
          "height": 219
        },
        "outputId": "45958a99-9d8a-4158-ee48-0ffcefb3c0f7"
      },
      "source": [
        "positive = df[(df['score']==1)]\n",
        "wc_pos = WordCloud().generate(str(positive['text'].values))\n",
        "negative = df[(df['score']==0)]\n",
        "wc_neg = WordCloud().generate(str(negative['text'].values))\n",
        "\n",
        "plt.figure()\n",
        "plt.imshow(wc_pos)\n",
        "plt.axis('off')\n",
        "plt.title('Word Cloud for postive reviews',fontsize=20)\n",
        "plt.show()"
      ],
      "execution_count": 11,
      "outputs": [
        {
          "output_type": "display_data",
          "data": {
            "image/png": "[encoded data removed]",
            "text/plain": [
              "<Figure size 432x288 with 1 Axes>"
            ]
          },
          "metadata": {
            "tags": [],
            "needs_background": "light"
          }
        }
      ]
    },
    {
      "cell_type": "code",
      "metadata": {
        "id": "Zut3yt1UENhv",
        "colab_type": "code",
        "colab": {
          "base_uri": "https://localhost:8080/",
          "height": 219
        },
        "outputId": "0821c233-6c4a-4808-868a-7f19a0dc7670"
      },
      "source": [
        "plt.figure()\n",
        "plt.imshow(wc_neg)\n",
        "plt.axis('off')\n",
        "plt.title('Word Cloud for negative reviews',fontsize=20)\n",
        "plt.show()    "
      ],
      "execution_count": 12,
      "outputs": [
        {
          "output_type": "display_data",
          "data": {
            "image/png": "[encoded data removed]",
            "text/plain": [
              "<Figure size 432x288 with 1 Axes>"
            ]
          },
          "metadata": {
            "tags": [],
            "needs_background": "light"
          }
        }
      ]
    },
    {
      "cell_type": "markdown",
      "metadata": {
        "id": "dCpf_38E2Rmc",
        "colab_type": "text"
      },
      "source": [
        "The Word Clouds will give us a deep dive into the most common words for the either positive reviews or negative. As seen before, the most used words on positive reviews are great and good, while in the negative are plug and go. This gives as an idea of what type of reviews we have.\n",
        "\n",
        "In this case the negatives usually have reference to some electric device as the plug word appears a lot."
      ]
    },
    {
      "cell_type": "markdown",
      "metadata": {
        "id": "7oGwv9dJYB6B",
        "colab_type": "text"
      },
      "source": [
        "#Preprocessing\n",
        "Once the data is succesfully analyzed we will start the preprocessing taking into account important features from the previous step."
      ]
    },
    {
      "cell_type": "code",
      "metadata": {
        "id": "FN1o_0EaYbGL",
        "colab_type": "code",
        "colab": {}
      },
      "source": [
        "#Puntuation and numbers removal, most of them not providing information for sentiment analysis.\n",
        "words = df.text.apply(lambda x: re.sub(r'\\W+',' ',x))\n",
        "\n",
        "#Lower Case all text\n",
        "words = words.apply(lambda x: x.lower())\n",
        "\n",
        "#Removal of Stop words\n",
        "#stop_words = stopwords.words('english')\n",
        "#tokens = words_lower.apply(lambda row: nltk.word_tokenize(row))\n",
        "#words = tokens.apply(lambda x: [word for word in x if not word in stop_words])\n",
        "#words = words.apply(lambda x: ' '.join(x))\n",
        "\n",
        "#Stemming\n",
        "#tokens = words_lower.apply(lambda row: nltk.word_tokenize(row))\n",
        "#words = tokens.apply(lambda x: [ps.stem(w) for w in x])\n",
        "#words = words.apply(lambda x: ' '.join(x))\n",
        "\n",
        "#Add Changes to df.\n",
        "df.text = words"
      ],
      "execution_count": 13,
      "outputs": []
    },
    {
      "cell_type": "markdown",
      "metadata": {
        "id": "eBdbUXuTeudr",
        "colab_type": "text"
      },
      "source": [
        "We will keep stopwords as most of them bring negation and context information Bert is able to take profit of.\n",
        "The same happens with Stemming or Lemmatization as the model losses information that helps to predict the sentiment."
      ]
    },
    {
      "cell_type": "markdown",
      "metadata": {
        "id": "N7D4iIKk4Txl",
        "colab_type": "text"
      },
      "source": [
        "#Downloading the model"
      ]
    },
    {
      "cell_type": "code",
      "metadata": {
        "id": "gPe0tSqDDSh0",
        "colab_type": "code",
        "colab": {
          "base_uri": "https://localhost:8080/",
          "height": 348
        },
        "outputId": "26326949-6490-4ab0-ce29-7f9c820c9813"
      },
      "source": [
        "!wget https://storage.googleapis.com/bert_models/2018_10_18/uncased_L-12_H-768_A-12.zip\n",
        "!unzip uncased_L-12_H-768_A-12.zip"
      ],
      "execution_count": 14,
      "outputs": [
        {
          "output_type": "stream",
          "text": [
            "--2020-09-18 07:23:07--  https://storage.googleapis.com/bert_models/2018_10_18/uncased_L-12_H-768_A-12.zip\n",
            "Resolving storage.googleapis.com (storage.googleapis.com)... 74.125.133.128, 74.125.140.128, 108.177.15.128, ...\n",
            "Connecting to storage.googleapis.com (storage.googleapis.com)|74.125.133.128|:443... connected.\n",
            "HTTP request sent, awaiting response... 200 OK\n",
            "Length: 407727028 (389M) [application/zip]\n",
            "Saving to: ‘uncased_L-12_H-768_A-12.zip’\n",
            "\n",
            "uncased_L-12_H-768_ 100%[===================>] 388.84M  84.0MB/s    in 4.6s    \n",
            "\n",
            "2020-09-18 07:23:12 (84.0 MB/s) - ‘uncased_L-12_H-768_A-12.zip’ saved [407727028/407727028]\n",
            "\n",
            "Archive:  uncased_L-12_H-768_A-12.zip\n",
            "   creating: uncased_L-12_H-768_A-12/\n",
            "  inflating: uncased_L-12_H-768_A-12/bert_model.ckpt.meta  \n",
            "  inflating: uncased_L-12_H-768_A-12/bert_model.ckpt.data-00000-of-00001  \n",
            "  inflating: uncased_L-12_H-768_A-12/vocab.txt  \n",
            "  inflating: uncased_L-12_H-768_A-12/bert_model.ckpt.index  \n",
            "  inflating: uncased_L-12_H-768_A-12/bert_config.json  \n"
          ],
          "name": "stdout"
        }
      ]
    },
    {
      "cell_type": "code",
      "metadata": {
        "id": "OQ-GO1qDh-xA",
        "colab_type": "code",
        "colab": {}
      },
      "source": [
        "os.makedirs(\"model\", exist_ok=True)\n",
        "!mv uncased_L-12_H-768_A-12/ model"
      ],
      "execution_count": 15,
      "outputs": []
    },
    {
      "cell_type": "code",
      "metadata": {
        "id": "IOqNHUgHDiIm",
        "colab_type": "code",
        "colab": {}
      },
      "source": [
        "bert_model_name= 'uncased_L-12_H-768_A-12'\n",
        "\n",
        "bert_ckpt_dir = os.path.join('model/',bert_model_name)\n",
        "bert_ckpt_file = os.path.join(bert_ckpt_dir, 'bert_model.ckpt')\n",
        "bert_config_file = os.path.join(bert_ckpt_dir, 'bert_config.json')"
      ],
      "execution_count": 16,
      "outputs": []
    },
    {
      "cell_type": "markdown",
      "metadata": {
        "id": "MimSpdQh4fq8",
        "colab_type": "text"
      },
      "source": [
        "#Preprocessing data for Bert\n",
        "In order to make the pretrained language model(Bert) understand our data it has to come on a specific format. To achieve this we developed a class with some functions to perform all the steps.\n",
        "\n",
        "The init function initializes the class with all the parameters that we pass on it.\n",
        "\n",
        "The encodebert converts the train/test dataset into train_x/test_y and train_y/test_y. The text is converted to tokens and added some special caracthers needed to delimiter sentences.\n",
        "\n",
        "The pad, appart from padding the sentences to the length of the largest, it creates the token_ids, the mask_id and the input_type_ids matrixs. "
      ]
    },
    {
      "cell_type": "code",
      "metadata": {
        "id": "_shVKJFxEyFO",
        "colab_type": "code",
        "colab": {}
      },
      "source": [
        "class BertData:\n",
        "\n",
        "  def __init__(self, train, test, tokenizer: FullTokenizer, classes, max_seq_len=192):\n",
        "    self.tokenizer=tokenizer\n",
        "    self.max_seq_len=0\n",
        "    self.classes=classes\n",
        "\n",
        "    ((self.train_x, self.train_y), (self.test_x,self.test_y)) = map(self._encodebert, [train,test])\n",
        "\n",
        "    self.max_seq_len=min(self.max_seq_len,max_seq_len)\n",
        "    \n",
        "    ((self.train_x, self.train_mask, self.train_type), (self.test_x, self.test_mask, self.test_type)) = map(self._pad,[self.train_x, self.test_x])\n",
        "  \n",
        "\n",
        "  def _encodebert(self, df):\n",
        "    x, y= [], []\n",
        "    for _,row in tqdm(df.iterrows()):\n",
        "      text,label= row['text'], row['score']\n",
        "\n",
        "      tokens = self.tokenizer.tokenize(text)\n",
        "      tokens = [\"[CLS]\"]+tokens+[\"[SEP]\"]\n",
        "\n",
        "      token_ids = self.tokenizer.convert_tokens_to_ids(tokens)\n",
        "\n",
        "      self.max_seq_len= max(self.max_seq_len, len(token_ids))\n",
        "\n",
        "      x.append(token_ids)\n",
        "      y.append(self.classes.index(label))\n",
        "\n",
        "    return np.array(x), np.array(y)\n",
        "\n",
        "\n",
        "  def _pad(self, ids):\n",
        "    #print(\"Max_Seq_Len Value:\", self.max_seq_len)\n",
        "    x, y, z =[],[], []\n",
        "    \n",
        "    for input_ids in ids:\n",
        "      \n",
        "      #Mask generation:\n",
        "      mask = ([1] * len(input_ids)) + ([0] *  (self.max_seq_len - len(input_ids)))\n",
        "      #Input type generation:\n",
        "      input_type = ([0] * (len(input_ids)-1)) + [1] + ([0] *  (self.max_seq_len - len(input_ids)))\n",
        "      #Input ids generation:\n",
        "      input_ids = input_ids[:min(len(input_ids), self.max_seq_len - 2)]\n",
        "      input_ids = input_ids + [0] * (self.max_seq_len - len(input_ids))\n",
        "\n",
        "      x.append(np.array(input_ids))\n",
        "      y.append(np.array(mask))\n",
        "      z.append(np.array(input_type))\n",
        "\n",
        "    return np.array(x), np.array(y), np.array(z)\n",
        "\n"
      ],
      "execution_count": 17,
      "outputs": []
    },
    {
      "cell_type": "code",
      "metadata": {
        "id": "k9_dqyXNLqSw",
        "colab_type": "code",
        "colab": {}
      },
      "source": [
        "tokenizer = FullTokenizer(vocab_file=os.path.join(bert_ckpt_dir,\"vocab.txt\"))"
      ],
      "execution_count": 18,
      "outputs": []
    },
    {
      "cell_type": "code",
      "metadata": {
        "id": "SNzx3BAsMMGr",
        "colab_type": "code",
        "colab": {}
      },
      "source": [
        "#tokenizer.tokenize(\"I can't wait to learn more about Deep Learning.\")"
      ],
      "execution_count": 19,
      "outputs": []
    },
    {
      "cell_type": "code",
      "metadata": {
        "id": "AhWq_CHVqHv3",
        "colab_type": "code",
        "colab": {}
      },
      "source": [
        "import tensorflow_hub as hub\n",
        "bert_path = 'https://tfhub.dev/tensorflow/bert_en_uncased_L-12_H-768_A-12/1'\n",
        "bert_layer = hub.KerasLayer(bert_path, trainable=True)"
      ],
      "execution_count": 20,
      "outputs": []
    },
    {
      "cell_type": "markdown",
      "metadata": {
        "id": "X0Wl1_JV551E",
        "colab_type": "text"
      },
      "source": [
        "#Model Creation\n",
        "To make Bert work correctly, we need the data in the format mentioned before. So the input to the bert layer will be [input_ids, input_mask, input_segments]. Then we fine-tune the lasts layers in order to make the model be able to perform corretly on our type of problem, in our case, sentiment analysis."
      ]
    },
    {
      "cell_type": "code",
      "metadata": {
        "id": "RpHulzBvNW46",
        "colab_type": "code",
        "colab": {}
      },
      "source": [
        "def create_model(max_seq_len):\n",
        "\n",
        "  input_ids = keras.layers.Input(shape=(max_seq_len, ), dtype='int32', name=\"input_ids\")\n",
        "  input_mask = keras.layers.Input(shape=(max_seq_len, ), dtype='int32', name=\"input_masks\")\n",
        "  input_segments = keras.layers.Input(shape=(max_seq_len, ), dtype='int32', name=\"input_segments\")\n",
        "\n",
        "  _,bert_output = bert_layer([input_ids, input_mask, input_segments])\n",
        "  cls_out = keras.layers.GlobalAveragePooling1D()(bert_output)\n",
        "  logits = keras.layers.Dropout(0.7)(cls_out)\n",
        "  logits = keras.layers.Dense(units=768)(logits)\n",
        "  logits = keras.layers.Dropout(0.7)(logits)\n",
        "\n",
        "  #Enable the row below when logits=True\n",
        "  logits = keras.layers.Dense(units=1, activation=\"sigmoid\")(logits)\n",
        "\n",
        "  #Enable the row below when Loss logits=False, worse results thant with logits\n",
        "  #logits = keras.layers.Dense(units=len(classes), activation=\"softmax\")(logits)\n",
        "\n",
        "  model = keras.Model([input_ids, input_mask, input_segments],logits)\n",
        "        \n",
        "  return model"
      ],
      "execution_count": 21,
      "outputs": []
    },
    {
      "cell_type": "code",
      "metadata": {
        "id": "6NXqzsh65J5M",
        "colab_type": "code",
        "colab": {}
      },
      "source": [
        "train,test = train_test_split(df, test_size=0.2, random_state=43)"
      ],
      "execution_count": 22,
      "outputs": []
    },
    {
      "cell_type": "code",
      "metadata": {
        "id": "yxpXjii7OBVJ",
        "colab_type": "code",
        "colab": {
          "base_uri": "https://localhost:8080/",
          "height": 52
        },
        "outputId": "831d4be7-294d-4088-bacd-b7d3fccd1509"
      },
      "source": [
        "classes = train.score.unique().tolist()\n",
        "data = BertData(train, test, tokenizer, classes, max_seq_len=128)"
      ],
      "execution_count": 23,
      "outputs": [
        {
          "output_type": "stream",
          "text": [
            "2400it [00:01, 2204.15it/s]\n",
            "600it [00:00, 2221.81it/s]\n"
          ],
          "name": "stderr"
        }
      ]
    },
    {
      "cell_type": "code",
      "metadata": {
        "id": "PcDvOnryWJKd",
        "colab_type": "code",
        "colab": {}
      },
      "source": [
        "model = create_model(data.max_seq_len)"
      ],
      "execution_count": 24,
      "outputs": []
    },
    {
      "cell_type": "code",
      "metadata": {
        "id": "Nm5d2d6XaSuw",
        "colab_type": "code",
        "colab": {
          "base_uri": "https://localhost:8080/",
          "height": 501
        },
        "outputId": "eb6aefbb-4915-4d8c-c291-05c9e33c1a48"
      },
      "source": [
        "model.summary()"
      ],
      "execution_count": 25,
      "outputs": [
        {
          "output_type": "stream",
          "text": [
            "Model: \"functional_1\"\n",
            "__________________________________________________________________________________________________\n",
            "Layer (type)                    Output Shape         Param #     Connected to                     \n",
            "==================================================================================================\n",
            "input_ids (InputLayer)          [(None, 87)]         0                                            \n",
            "__________________________________________________________________________________________________\n",
            "input_masks (InputLayer)        [(None, 87)]         0                                            \n",
            "__________________________________________________________________________________________________\n",
            "input_segments (InputLayer)     [(None, 87)]         0                                            \n",
            "__________________________________________________________________________________________________\n",
            "keras_layer (KerasLayer)        [(None, 768), (None, 109482241   input_ids[0][0]                  \n",
            "                                                                 input_masks[0][0]                \n",
            "                                                                 input_segments[0][0]             \n",
            "__________________________________________________________________________________________________\n",
            "global_average_pooling1d (Globa (None, 768)          0           keras_layer[0][1]                \n",
            "__________________________________________________________________________________________________\n",
            "dropout (Dropout)               (None, 768)          0           global_average_pooling1d[0][0]   \n",
            "__________________________________________________________________________________________________\n",
            "dense (Dense)                   (None, 768)          590592      dropout[0][0]                    \n",
            "__________________________________________________________________________________________________\n",
            "dropout_1 (Dropout)             (None, 768)          0           dense[0][0]                      \n",
            "__________________________________________________________________________________________________\n",
            "dense_1 (Dense)                 (None, 1)            769         dropout_1[0][0]                  \n",
            "==================================================================================================\n",
            "Total params: 110,073,602\n",
            "Trainable params: 110,073,601\n",
            "Non-trainable params: 1\n",
            "__________________________________________________________________________________________________\n"
          ],
          "name": "stdout"
        }
      ]
    },
    {
      "cell_type": "code",
      "metadata": {
        "id": "uq0uLvLySdcK",
        "colab_type": "code",
        "colab": {}
      },
      "source": [
        "#data.train_x[0]"
      ],
      "execution_count": 26,
      "outputs": []
    },
    {
      "cell_type": "code",
      "metadata": {
        "id": "kYySdoKWkfVc",
        "colab_type": "code",
        "colab": {}
      },
      "source": [
        "#data.train_mask[0]"
      ],
      "execution_count": 27,
      "outputs": []
    },
    {
      "cell_type": "code",
      "metadata": {
        "id": "K2LiV_ZpZmI1",
        "colab_type": "code",
        "colab": {}
      },
      "source": [
        "#train.text[0]"
      ],
      "execution_count": 28,
      "outputs": []
    },
    {
      "cell_type": "code",
      "metadata": {
        "id": "u8brAkvhZ52O",
        "colab_type": "code",
        "colab": {}
      },
      "source": [
        "#data.train_x[0]"
      ],
      "execution_count": 29,
      "outputs": []
    },
    {
      "cell_type": "markdown",
      "metadata": {
        "id": "UCyeqxrb61eC",
        "colab_type": "text"
      },
      "source": [
        "The parameters of the compile are given by the Bert documentation where they suggest some of them. The loss function is given by the type of problem."
      ]
    },
    {
      "cell_type": "code",
      "metadata": {
        "id": "xj4A2SVxadHF",
        "colab_type": "code",
        "colab": {}
      },
      "source": [
        "model.compile(\n",
        "    optimizer=keras.optimizers.Adam(learning_rate = 1e-5),\n",
        "    loss=tf.keras.losses.BinaryCrossentropy(from_logits=True),\n",
        "    metrics=['accuracy'])"
      ],
      "execution_count": 30,
      "outputs": []
    },
    {
      "cell_type": "markdown",
      "metadata": {
        "id": "Wo9sU6437NHO",
        "colab_type": "text"
      },
      "source": [
        "As the bert layer only accepts data in tensors of int32 we convert the 3 matrix into a tensor in order to make the layer understand."
      ]
    },
    {
      "cell_type": "code",
      "metadata": {
        "id": "scqtkONsudjX",
        "colab_type": "code",
        "colab": {
          "base_uri": "https://localhost:8080/",
          "height": 432
        },
        "outputId": "db90cdcf-1dac-4d0e-f033-6bed984e09b5"
      },
      "source": [
        "bert_input = [tf.cast(data.train_x, tf.int32), tf.cast(data.train_mask, tf.int32), tf.cast(data.train_type, tf.int32)]\n",
        "bert_input"
      ],
      "execution_count": 31,
      "outputs": [
        {
          "output_type": "execute_result",
          "data": {
            "text/plain": [
              "[<tf.Tensor: shape=(2400, 87), dtype=int32, numpy=\n",
              " array([[  101,  1996, 20130, ...,     0,     0,     0],\n",
              "        [  101, 13877,  2001, ...,     0,     0,     0],\n",
              "        [  101,  1996,  9682, ...,     0,     0,     0],\n",
              "        ...,\n",
              "        [  101,  1996,  2304, ...,     0,     0,     0],\n",
              "        [  101,  2833,  2001, ...,     0,     0,     0],\n",
              "        [  101,  2065,  2045, ...,     0,     0,     0]], dtype=int32)>,\n",
              " <tf.Tensor: shape=(2400, 87), dtype=int32, numpy=\n",
              " array([[1, 1, 1, ..., 0, 0, 0],\n",
              "        [1, 1, 1, ..., 0, 0, 0],\n",
              "        [1, 1, 1, ..., 0, 0, 0],\n",
              "        ...,\n",
              "        [1, 1, 1, ..., 0, 0, 0],\n",
              "        [1, 1, 1, ..., 0, 0, 0],\n",
              "        [1, 1, 1, ..., 0, 0, 0]], dtype=int32)>,\n",
              " <tf.Tensor: shape=(2400, 87), dtype=int32, numpy=\n",
              " array([[0, 0, 0, ..., 0, 0, 0],\n",
              "        [0, 0, 0, ..., 0, 0, 0],\n",
              "        [0, 0, 0, ..., 0, 0, 0],\n",
              "        ...,\n",
              "        [0, 0, 0, ..., 0, 0, 0],\n",
              "        [0, 0, 0, ..., 0, 0, 0],\n",
              "        [0, 0, 0, ..., 0, 0, 0]], dtype=int32)>]"
            ]
          },
          "metadata": {
            "tags": []
          },
          "execution_count": 31
        }
      ]
    },
    {
      "cell_type": "markdown",
      "metadata": {
        "id": "Cn-1bujv7cAo",
        "colab_type": "text"
      },
      "source": [
        "This are some callbacks, the first one as the name says, stops the training process once the model has not improved after x steps.\n",
        "The second one is only for storing the best version of the model."
      ]
    },
    {
      "cell_type": "code",
      "metadata": {
        "id": "wB9GmVSMUycA",
        "colab_type": "code",
        "colab": {}
      },
      "source": [
        "earlystop = EarlyStopping(monitor = 'val_loss',\n",
        "                          min_delta = 0,\n",
        "                          patience = 3,\n",
        "                          verbose = 1,\n",
        "                          restore_best_weights = True)\n",
        "\n",
        "checkpoint = ModelCheckpoint('model/best.h5',\n",
        "                             monitor='val_loss',\n",
        "                             mode='min',\n",
        "                             save_best_only=True,\n",
        "                             verbose=1)"
      ],
      "execution_count": 32,
      "outputs": []
    },
    {
      "cell_type": "code",
      "metadata": {
        "id": "fe9E_86_bHuH",
        "colab_type": "code",
        "colab": {
          "base_uri": "https://localhost:8080/",
          "height": 417
        },
        "outputId": "edb74ae5-20e7-42ac-b62e-c8984c961b65"
      },
      "source": [
        "history = model.fit(\n",
        "    x=bert_input, \n",
        "    y=data.train_y, \n",
        "    validation_split=0.1, \n",
        "    batch_size=16, \n",
        "    shuffle=True,\n",
        "    epochs=5,\n",
        "    callbacks=[earlystop, checkpoint]\n",
        "    )"
      ],
      "execution_count": 33,
      "outputs": [
        {
          "output_type": "stream",
          "text": [
            "Epoch 1/5\n",
            "135/135 [==============================] - ETA: 0s - loss: 0.6439 - accuracy: 0.6588WARNING:tensorflow:Callbacks method `on_test_batch_end` is slow compared to the batch time (batch time: 0.0134s vs `on_test_batch_end` time: 0.1630s). Check your callbacks.\n"
          ],
          "name": "stdout"
        },
        {
          "output_type": "stream",
          "text": [
            "WARNING:tensorflow:Callbacks method `on_test_batch_end` is slow compared to the batch time (batch time: 0.0134s vs `on_test_batch_end` time: 0.1630s). Check your callbacks.\n"
          ],
          "name": "stderr"
        },
        {
          "output_type": "stream",
          "text": [
            "\n",
            "Epoch 00001: val_loss improved from inf to 0.57020, saving model to model/best.h5\n",
            "135/135 [==============================] - 85s 627ms/step - loss: 0.6439 - accuracy: 0.6588 - val_loss: 0.5702 - val_accuracy: 0.8875\n",
            "Epoch 2/5\n",
            "135/135 [==============================] - ETA: 0s - loss: 0.5388 - accuracy: 0.9171\n",
            "Epoch 00002: val_loss improved from 0.57020 to 0.55857, saving model to model/best.h5\n",
            "135/135 [==============================] - 83s 613ms/step - loss: 0.5388 - accuracy: 0.9171 - val_loss: 0.5586 - val_accuracy: 0.9167\n",
            "Epoch 3/5\n",
            "135/135 [==============================] - ETA: 0s - loss: 0.5242 - accuracy: 0.9505\n",
            "Epoch 00003: val_loss improved from 0.55857 to 0.55764, saving model to model/best.h5\n",
            "135/135 [==============================] - 83s 613ms/step - loss: 0.5242 - accuracy: 0.9505 - val_loss: 0.5576 - val_accuracy: 0.9292\n",
            "Epoch 4/5\n",
            "135/135 [==============================] - ETA: 0s - loss: 0.5199 - accuracy: 0.9588\n",
            "Epoch 00004: val_loss improved from 0.55764 to 0.55377, saving model to model/best.h5\n",
            "135/135 [==============================] - 83s 613ms/step - loss: 0.5199 - accuracy: 0.9588 - val_loss: 0.5538 - val_accuracy: 0.9292\n",
            "Epoch 5/5\n",
            "135/135 [==============================] - ETA: 0s - loss: 0.5141 - accuracy: 0.9718\n",
            "Epoch 00005: val_loss did not improve from 0.55377\n",
            "135/135 [==============================] - 78s 575ms/step - loss: 0.5141 - accuracy: 0.9718 - val_loss: 0.5596 - val_accuracy: 0.9125\n"
          ],
          "name": "stdout"
        }
      ]
    },
    {
      "cell_type": "markdown",
      "metadata": {
        "id": "K6NQk7Cx8DsE",
        "colab_type": "text"
      },
      "source": [
        "#Result Analysis\n",
        "\n",
        "Once the training finished, we will test our model on the remaining data (test dataset). "
      ]
    },
    {
      "cell_type": "code",
      "metadata": {
        "id": "hePLN8OZissw",
        "colab_type": "code",
        "colab": {
          "base_uri": "https://localhost:8080/",
          "height": 52
        },
        "outputId": "453d2fa5-40e5-4295-9fef-e3099ecc26c1"
      },
      "source": [
        "bert_test_inp = [tf.cast(data.test_x, tf.int32), tf.cast(data.test_mask, tf.int32), tf.cast(data.test_type, tf.int32)]\n",
        "_, test_acc= model.evaluate(bert_test_inp, data.test_y)\n",
        "\n",
        "print(\"test acc:\", test_acc)"
      ],
      "execution_count": 34,
      "outputs": [
        {
          "output_type": "stream",
          "text": [
            "19/19 [==============================] - 6s 341ms/step - loss: 0.5292 - accuracy: 0.9450\n",
            "test acc: 0.9449999928474426\n"
          ],
          "name": "stdout"
        }
      ]
    },
    {
      "cell_type": "markdown",
      "metadata": {
        "id": "IJ7HrpIK8CWN",
        "colab_type": "text"
      },
      "source": [
        "More than 94% of accuracy on the test dataset is pretty good. But this brings no information on what type of data are we missclasifying. "
      ]
    },
    {
      "cell_type": "code",
      "metadata": {
        "id": "HLrD0RYlDBBZ",
        "colab_type": "code",
        "colab": {
          "base_uri": "https://localhost:8080/",
          "height": 295
        },
        "outputId": "83dbd90b-db56-4a80-ce05-fb43db76c056"
      },
      "source": [
        "from matplotlib.ticker import MaxNLocator\n",
        "ax = plt.figure().gca()\n",
        "ax.xaxis.set_major_locator(MaxNLocator(integer=True))\n",
        "\n",
        "ax.plot(history.history['loss'])\n",
        "ax.plot(history.history['val_loss'])\n",
        "plt.ylabel('Loss')\n",
        "plt.xlabel('Epoch')\n",
        "plt.legend(['train', 'test'])\n",
        "plt.title('Loss over training epochs')\n",
        "#plt.ylim([0,1])\n",
        "plt.show();"
      ],
      "execution_count": 35,
      "outputs": [
        {
          "output_type": "display_data",
          "data": {
            "image/png": "[encoded data removed]",
            "text/plain": [
              "<Figure size 432x288 with 1 Axes>"
            ]
          },
          "metadata": {
            "tags": [],
            "needs_background": "light"
          }
        }
      ]
    },
    {
      "cell_type": "code",
      "metadata": {
        "id": "ZM2q21EiDy_y",
        "colab_type": "code",
        "colab": {
          "base_uri": "https://localhost:8080/",
          "height": 295
        },
        "outputId": "0d1ac612-6daa-442d-8f48-a57057740f8d"
      },
      "source": [
        "ax = plt.figure().gca()\n",
        "ax.xaxis.set_major_locator(MaxNLocator(integer=True))\n",
        "\n",
        "ax.plot(history.history['accuracy'])\n",
        "ax.plot(history.history['val_accuracy'])\n",
        "plt.ylabel('Accuracy')\n",
        "plt.xlabel('Epoch')\n",
        "plt.legend(['train', 'test'])\n",
        "plt.title('Accuracy over training epochs')\n",
        "plt.ylim([0.5,1])\n",
        "plt.show();"
      ],
      "execution_count": 40,
      "outputs": [
        {
          "output_type": "display_data",
          "data": {
            "image/png": "[encoded data removed]",
            "text/plain": [
              "<Figure size 432x288 with 1 Axes>"
            ]
          },
          "metadata": {
            "tags": [],
            "needs_background": "light"
          }
        }
      ]
    },
    {
      "cell_type": "code",
      "metadata": {
        "id": "lZq2JA-d8zxv",
        "colab_type": "code",
        "colab": {
          "base_uri": "https://localhost:8080/",
          "height": 35
        },
        "outputId": "23d20afa-9755-40e4-8694-bc674f051a3e"
      },
      "source": [
        "y_test_pred = model.predict(bert_test_inp)\n",
        "y_test_pred2=[]\n",
        "for i in y_test_pred:\n",
        "  if (i < 0.5):\n",
        "    i= 0\n",
        "  else:\n",
        "    i = 1\n",
        "  y_test_pred2.append(i)\n",
        "y_test_pred2[0:10]"
      ],
      "execution_count": 37,
      "outputs": [
        {
          "output_type": "execute_result",
          "data": {
            "text/plain": [
              "[0, 0, 1, 1, 1, 1, 0, 1, 1, 0]"
            ]
          },
          "metadata": {
            "tags": []
          },
          "execution_count": 37
        }
      ]
    },
    {
      "cell_type": "code",
      "metadata": {
        "id": "IICgYyuXi47K",
        "colab_type": "code",
        "colab": {
          "base_uri": "https://localhost:8080/",
          "height": 295
        },
        "outputId": "ce1b9b5e-5c27-4359-8be3-d5f8c8f3c7ea"
      },
      "source": [
        "y_test_true = data.test_y\n",
        "cm = confusion_matrix(y_test_true, y_test_pred2, normalize='true')\n",
        "\n",
        "\n",
        "ax = plt.subplot()\n",
        "sns.heatmap(cm, annot=True, linewidth=.5)\n",
        "ax.set_xlabel('Predicted labels')\n",
        "ax.set_ylabel('True labels')\n",
        "ax.set_title('Confusion Matrix');\n"
      ],
      "execution_count": 38,
      "outputs": [
        {
          "output_type": "display_data",
          "data": {
            "image/png": "[encoded data removed]",
            "text/plain": [
              "<Figure size 432x288 with 2 Axes>"
            ]
          },
          "metadata": {
            "tags": [],
            "needs_background": "light"
          }
        }
      ]
    },
    {
      "cell_type": "markdown",
      "metadata": {
        "id": "wYu-sAjx9HTd",
        "colab_type": "text"
      },
      "source": [
        "The confusion matrix matrix gives much more information than the accuracy by itself. Here with this plot, we know that the prediction error on negative reviews is almost perfect, but on the positive ones we miss much more (90%).\n",
        "\n",
        "To discover what is causing this we will need to analyse the positive reviews that are missclasified as negative ones and check if there is something that can make the model perform wrong predictions. "
      ]
    },
    {
      "cell_type": "code",
      "metadata": {
        "id": "hNCjrZKjzfK4",
        "colab_type": "code",
        "colab": {
          "base_uri": "https://localhost:8080/",
          "height": 173
        },
        "outputId": "71001e00-12f3-42b0-d417-67eedff2f20b"
      },
      "source": [
        "print(classification_report(y_test_true, y_test_pred2))"
      ],
      "execution_count": 39,
      "outputs": [
        {
          "output_type": "stream",
          "text": [
            "              precision    recall  f1-score   support\n",
            "\n",
            "           0       0.91      0.98      0.95       306\n",
            "           1       0.98      0.90      0.94       294\n",
            "\n",
            "    accuracy                           0.94       600\n",
            "   macro avg       0.95      0.94      0.94       600\n",
            "weighted avg       0.95      0.94      0.94       600\n",
            "\n"
          ],
          "name": "stdout"
        }
      ]
    }
  ]
}